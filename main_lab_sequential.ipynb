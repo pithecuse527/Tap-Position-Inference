{
  "nbformat": 4,
  "nbformat_minor": 0,
  "metadata": {
    "colab": {
      "name": "Inference2.ipynb",
      "provenance": [],
      "collapsed_sections": []
    },
    "kernelspec": {
      "name": "python3",
      "display_name": "Python 3"
    },
    "language_info": {
      "name": "python"
    }
  },
  "cells": [
    {
      "cell_type": "markdown",
      "metadata": {
        "id": "G3XyCq6jzeO9"
      },
      "source": [
        "---\n",
        "### TITLE: The Inference with Sensors\n",
        "### AUTHOR: Honggeun Ji\n",
        "### DATE: 10.Nov.2021.\n",
        "---\n",
        "\n",
        "# Tap Position Inference with Flutter and Keras\n",
        "<div>\n",
        "<img src=\"https://media.vlpt.us/images/swara/post/f984346a-d7a6-4ff7-981e-9b71de5d61c7/flutter.png\" width=\"200\"/>\n",
        "<img src=\"https://miro.medium.com/max/600/0*LZQf7b4u8f97izwV.png\" width=\"200\"/>\n",
        "</div>\n",
        "\n",
        "In this lab, I would like to show you the tap position inference using\n",
        "these two sensory data.\n",
        "\n",
        "*   Accelerometer Sensory Data\n",
        "*   Gyroscope Sensory Data\n",
        "\n"
      ]
    },
    {
      "cell_type": "markdown",
      "metadata": {
        "id": "S-eCVIhsztTO"
      },
      "source": [
        "# Data Collection\n",
        "\n",
        "\n",
        "\n",
        "> **Q. What kinds of Sensory Data and How do we collect?**\n",
        "\n",
        "\n",
        "### What Data?\n",
        "**Inspired by Professor Li's \"Privacy Leakage in Smart Device\" introduction.**\n",
        "\n",
        "*   In general, there are three diffent types of sensors on mobile devices.\n",
        "\n",
        "         1. Accelerometer \n",
        "         2. Gyroscope\n",
        "         3. Magnetometer\n",
        "\n",
        "*   This lab only deals with those two sensors except the Magnetometer.\n",
        "\n",
        "*   Based on those two sensors, we may collect sensory data at the moment our user tapped a zone.\n",
        "*   The zones are divided into 12 parts; however, this lab will only show you the case of 6 tapping zone. (As I want to show you the testing case first, after this labs seems valid, I'll move on to the next stages.)\n",
        "\n",
        "</br>\n",
        "\n",
        "### Data, Data, Data... How to collect?\n",
        "**Inspired from Android App Development introduction.**\n",
        "\n",
        "\n",
        "*   The way how I develop an app is quite different from lagacy project.\n",
        "*   Typically, professional developers choose the native development way so that the app works powerfully. (High performance, Faster Reload, and using the native hardware)\n",
        "\n",
        "*   However, it requires at least 3 months to become confident on the native application development.\n",
        "*   This is the reason why I choose **Flutter**. The Flutter is a cross-platform development framework made by Google.\n",
        "*   Not that powerful than the native one, but **this still leads us to implement the sensor data.**\n",
        "*   Also, the Flutter use the programming language, **Dart**, which is quite similar with Java.\n",
        "*   Use the Flutter packages to capture the sensor data with tap position at the moment when a user tap those zone. \n",
        "\n",
        "</br>\n",
        "\n",
        "**Tapping the App looks like,**\n",
        "<div>\n",
        "<img src=\"https://drive.google.com/uc?id=1F-Od3yLodwsoKUzGqZ9Cww9kqAWPvP3w\" width=\"350\" height=\"500\">\n",
        "<img src=\"https://drive.google.com/uc?id=1jyhw4BWNRr8NckquDIZMLWWQ4v2A4QEf\" width=\"250\" height=\"500\">\n",
        "</div>\n",
        "\n",
        "</br>\n",
        "</br>\n",
        "</br>\n"
      ]
    },
    {
      "cell_type": "markdown",
      "metadata": {
        "id": "u3roxJWNzxjV"
      },
      "source": [
        "> **Q. How do we collect?**\n",
        "\n",
        "### Database Comes Here!\n",
        "\n",
        "*   Send those sensory data and tap position information to the Database.\n",
        "*   Here, I used FireStore from Google Firebase.\n",
        "\n",
        "</br>\n",
        "\n",
        "### What is Firestore?\n",
        "\n",
        "\n",
        "*   It is a Database based on NoSQL.\n",
        "*   Lightweight, Easy to store the data.\n",
        "*   Easy to export the data into .csv or .json form.\n",
        "*   Every record is regard as \"Document\".\n",
        "\n",
        "*   Firestore looks like this,\n",
        "<img src=\"https://drive.google.com/uc?id=1E4iyC5fTlCAWO_cJt6oOcoR7IQna_hvc\" width=\"950\" height=\"480\">\n",
        "\n",
        "*   My Flutter App will send those data set into this Firestore Database.\n",
        "</br>\n",
        "</br>\n",
        "</br>\n"
      ]
    },
    {
      "cell_type": "markdown",
      "metadata": {
        "id": "XXasX6R5z4at"
      },
      "source": [
        ""
      ]
    },
    {
      "cell_type": "code",
      "metadata": {
        "id": "tbz-bsPUzicY"
      },
      "source": [
        "import pandas as pd\n",
        "from sklearn import preprocessing\n",
        "\n",
        "data_all = pd.read_csv('./sample_data/sensor_data.csv')\n",
        "pd.set_option('display.float_format', lambda x: '%.5f' % x)"
      ],
      "execution_count": 1,
      "outputs": []
    },
    {
      "cell_type": "code",
      "metadata": {
        "id": "9SJ94VLFr1qx"
      },
      "source": [
        "# x = data_all.drop(['__id__', 'tapped_zone', 'tap_position_x', 'tap_position_y'], axis=1)  # Drop evertyig except sensory data\n",
        "# scaler = preprocessing.MinMaxScaler()\n",
        "scaler = preprocessing.StandardScaler()\n",
        "features_to_normalize = ['accelerometer1', 'accelerometer2', 'accelerometer3', 'gyroscope1', 'gyroscope2', 'gyroscope3', 'pitch', 'roll']\n",
        "x = scaler.fit_transform(data_all[features_to_normalize])\n",
        "x = pd.DataFrame(x, columns = features_to_normalize)\n",
        "# x = data_all.drop(['__id__', 'tappedZone', 'tapPositionX', 'tapPositionY'], axis=1)  # Drop evertyig except sensory data\n",
        "y = data_all.tapped_zone  # only the tapping zone\n",
        "# y = data_all.tappedZone  # only the tapping zone"
      ],
      "execution_count": 2,
      "outputs": []
    },
    {
      "cell_type": "code",
      "metadata": {
        "id": "y62TdPTYr3bO"
      },
      "source": [
        "data_all.sample(5)"
      ],
      "execution_count": null,
      "outputs": []
    },
    {
      "cell_type": "code",
      "metadata": {
        "id": "HCbFapJ7r6Kd"
      },
      "source": [
        "x.sample(6)  # INPUT DATA"
      ],
      "execution_count": null,
      "outputs": []
    },
    {
      "cell_type": "code",
      "metadata": {
        "id": "H0O7FrJLr8aV"
      },
      "source": [
        "y.sample(6)  # TARGET DATA"
      ],
      "execution_count": null,
      "outputs": []
    },
    {
      "cell_type": "code",
      "metadata": {
        "id": "pEvCnwpK1ddS"
      },
      "source": [
        "print(x.shape)\n",
        "print(y.shape)"
      ],
      "execution_count": null,
      "outputs": []
    },
    {
      "cell_type": "code",
      "metadata": {
        "id": "xFRV4rEJsN8s"
      },
      "source": [
        "x = x.dropna()\n",
        "y = y.dropna()"
      ],
      "execution_count": 3,
      "outputs": []
    },
    {
      "cell_type": "code",
      "metadata": {
        "id": "cfWZmrMTsnsP"
      },
      "source": [
        "print(x.shape)\n",
        "print(y.shape)"
      ],
      "execution_count": null,
      "outputs": []
    },
    {
      "cell_type": "code",
      "metadata": {
        "id": "zWs_5MXhsOde"
      },
      "source": [
        "from sklearn.model_selection import train_test_split\n",
        "x_train, x_val, y_train, y_val = train_test_split(x, y, stratify=y, test_size=0.2, random_state=42)"
      ],
      "execution_count": 4,
      "outputs": []
    },
    {
      "cell_type": "code",
      "metadata": {
        "id": "8xLGGxf3wUTr"
      },
      "source": [
        "import tensorflow as tf\n",
        "y_train_encoded = tf.keras.utils.to_categorical(y_train)  # one-hot encoding for training target\n",
        "y_val_encoded = tf.keras.utils.to_categorical(y_val)      # one-hot encoding for validate target"
      ],
      "execution_count": 5,
      "outputs": []
    },
    {
      "cell_type": "code",
      "metadata": {
        "id": "e7iUkOP3wWRj"
      },
      "source": [
        "# check out the shape\n",
        "print(y_train_encoded.shape, y_val_encoded.shape)\n",
        "print(x_train.shape, x_val.shape)"
      ],
      "execution_count": null,
      "outputs": []
    },
    {
      "cell_type": "code",
      "metadata": {
        "id": "Ja-QIx_AwZgK"
      },
      "source": [
        "from tensorflow.keras import Sequential\n",
        "from tensorflow.keras.layers import Dense\n",
        "\n",
        "model = Sequential()  # Entire Sequential Neural Network\n",
        "model.add(Dense(16, activation='relu', input_shape=(8,), kernel_regularizer='l1')) # Add the hidden layer with 80 unit(Neuron)  \n",
        "model.add(Dense(16, activation='relu', input_shape=(16, ), kernel_regularizer='l1'))\n",
        "model.add(Dense(16, activation='relu', input_shape=(16, ), kernel_regularizer='l2'))\n",
        "model.add(Dense(12, activation='softmax', input_shape=(16, )))  # Add the output layer (give us 12 classes)\n",
        "\n",
        "# optimizer is SGD (Stochastic Gradient Descent) with Learning Rate = 0.01 (default)\n",
        "# loss function should be categorical as this is the multiple classification problem\n",
        "model.compile(optimizer='sgd', loss='categorical_crossentropy', metrics=['accuracy'])"
      ],
      "execution_count": 6,
      "outputs": []
    },
    {
      "cell_type": "code",
      "metadata": {
        "id": "MeKwRck7whFG"
      },
      "source": [
        "history = model.fit(x_train, y_train_encoded, epochs=200, validation_data=(x_val, y_val_encoded))  # with 200 epochs"
      ],
      "execution_count": null,
      "outputs": []
    },
    {
      "cell_type": "code",
      "metadata": {
        "id": "P2x-dWHQwjXO",
        "colab": {
          "base_uri": "https://localhost:8080/"
        },
        "outputId": "33a5ef84-b714-4e2a-ac3e-115232c8221b"
      },
      "source": [
        "loss, accuracy = model.evaluate(x_val, y_val_encoded, verbose=0)\n",
        "print(accuracy)"
      ],
      "execution_count": 8,
      "outputs": [
        {
          "output_type": "stream",
          "name": "stdout",
          "text": [
            "0.9752066135406494\n"
          ]
        }
      ]
    },
    {
      "cell_type": "code",
      "metadata": {
        "id": "TjI9IhgbwvYf",
        "colab": {
          "base_uri": "https://localhost:8080/",
          "height": 457
        },
        "outputId": "7c823034-a910-43b1-e12b-6dd6ff0bad1e"
      },
      "source": [
        "# loss graph\n",
        "import matplotlib.pyplot as plt\n",
        "\n",
        "plt.figure(figsize=(10, 5), dpi=100)\n",
        "plt.plot(history.history['loss'])\n",
        "plt.plot(history.history['val_loss'])\n",
        "plt.ylabel('loss')\n",
        "plt.xlabel('epoch')\n",
        "plt.legend(['train_loss', 'val_loss'])\n",
        "plt.show()"
      ],
      "execution_count": 9,
      "outputs": [
        {
          "output_type": "display_data",
          "data": {
            "image/png": "[encoded data removed]",
            "text/plain": [
              "<Figure size 1000x500 with 1 Axes>"
            ]
          },
          "metadata": {
            "needs_background": "light"
          }
        }
      ]
    },
    {
      "cell_type": "code",
      "metadata": {
        "id": "tQ-palEYww9G",
        "colab": {
          "base_uri": "https://localhost:8080/",
          "height": 457
        },
        "outputId": "5d65e9f6-0e2d-4c5b-a512-2e06beb7f873"
      },
      "source": [
        "# accuracy graph\n",
        "plt.figure(figsize=(10, 5), dpi=100)\n",
        "plt.plot(history.history['accuracy'])\n",
        "plt.plot(history.history['val_accuracy'])\n",
        "plt.ylabel('accuracy')\n",
        "plt.xlabel('epoch')\n",
        "plt.legend(['train_accuracy', 'val_accuracy'])\n",
        "plt.show()"
      ],
      "execution_count": 10,
      "outputs": [
        {
          "output_type": "display_data",
          "data": {
            "image/png": "[encoded data removed]",
            "text/plain": [
              "<Figure size 1000x500 with 1 Axes>"
            ]
          },
          "metadata": {
            "needs_background": "light"
          }
        }
      ]
    },
    {
      "cell_type": "code",
      "metadata": {
        "id": "MeJSLAuGw0Pn",
        "colab": {
          "base_uri": "https://localhost:8080/",
          "height": 204
        },
        "outputId": "3fde2118-6173-4743-ff70-0da473014ff2"
      },
      "source": [
        "#import the testing .csv file\n",
        "test_data_all = pd.read_csv('sample_data/sensor_data_test.csv')\n",
        "\n",
        "# test data preprocessing\n",
        "# x_test = test_data_all.drop(['__id__', 'tapped_zone', 'tap_position_x', 'tap_position_y'], axis=1)  # Drop evertyig except sensory data\n",
        "y_test = test_data_all.tapped_zone  # only the tapping zone\n",
        "\n",
        "# normalization\n",
        "x_test = scaler.fit_transform(test_data_all[features_to_normalize])\n",
        "x_test = pd.DataFrame(x_test, columns = features_to_normalize)\n",
        "\n",
        "# drop the wrong record\n",
        "x_test = x_test.dropna()\n",
        "y_test = y_test.dropna()\n",
        "\n",
        "# one-hot encoding for test target\n",
        "y_test_encoded = tf.keras.utils.to_categorical(y_test)  \n",
        "\n",
        "x_test.head()"
      ],
      "execution_count": 11,
      "outputs": [
        {
          "output_type": "execute_result",
          "data": {
            "text/html": [
              "<div>\n",
              "<style scoped>\n",
              "    .dataframe tbody tr th:only-of-type {\n",
              "        vertical-align: middle;\n",
              "    }\n",
              "\n",
              "    .dataframe tbody tr th {\n",
              "        vertical-align: top;\n",
              "    }\n",
              "\n",
              "    .dataframe thead th {\n",
              "        text-align: right;\n",
              "    }\n",
              "</style>\n",
              "<table border=\"1\" class=\"dataframe\">\n",
              "  <thead>\n",
              "    <tr style=\"text-align: right;\">\n",
              "      <th></th>\n",
              "      <th>accelerometer1</th>\n",
              "      <th>accelerometer2</th>\n",
              "      <th>accelerometer3</th>\n",
              "      <th>gyroscope1</th>\n",
              "      <th>gyroscope2</th>\n",
              "      <th>gyroscope3</th>\n",
              "      <th>pitch</th>\n",
              "      <th>roll</th>\n",
              "    </tr>\n",
              "  </thead>\n",
              "  <tbody>\n",
              "    <tr>\n",
              "      <th>0</th>\n",
              "      <td>-1.44069</td>\n",
              "      <td>-0.91736</td>\n",
              "      <td>-0.13765</td>\n",
              "      <td>1.40273</td>\n",
              "      <td>-1.33214</td>\n",
              "      <td>-0.42705</td>\n",
              "      <td>-0.89796</td>\n",
              "      <td>-1.54455</td>\n",
              "    </tr>\n",
              "    <tr>\n",
              "      <th>1</th>\n",
              "      <td>0.19317</td>\n",
              "      <td>0.63330</td>\n",
              "      <td>-0.60339</td>\n",
              "      <td>-0.53080</td>\n",
              "      <td>0.32305</td>\n",
              "      <td>-1.47860</td>\n",
              "      <td>0.76728</td>\n",
              "      <td>0.11053</td>\n",
              "    </tr>\n",
              "    <tr>\n",
              "      <th>2</th>\n",
              "      <td>-0.57066</td>\n",
              "      <td>0.19121</td>\n",
              "      <td>-0.04607</td>\n",
              "      <td>-0.97563</td>\n",
              "      <td>-0.61339</td>\n",
              "      <td>0.49138</td>\n",
              "      <td>0.24830</td>\n",
              "      <td>-0.66046</td>\n",
              "    </tr>\n",
              "    <tr>\n",
              "      <th>3</th>\n",
              "      <td>1.04363</td>\n",
              "      <td>-1.02163</td>\n",
              "      <td>-0.60983</td>\n",
              "      <td>0.60556</td>\n",
              "      <td>1.37136</td>\n",
              "      <td>1.02742</td>\n",
              "      <td>-1.18910</td>\n",
              "      <td>1.10871</td>\n",
              "    </tr>\n",
              "    <tr>\n",
              "      <th>4</th>\n",
              "      <td>0.96656</td>\n",
              "      <td>-0.33246</td>\n",
              "      <td>0.13626</td>\n",
              "      <td>0.75385</td>\n",
              "      <td>1.33442</td>\n",
              "      <td>1.00976</td>\n",
              "      <td>-0.25455</td>\n",
              "      <td>0.85463</td>\n",
              "    </tr>\n",
              "  </tbody>\n",
              "</table>\n",
              "</div>"
            ],
            "text/plain": [
              "   accelerometer1  accelerometer2  accelerometer3  ...  gyroscope3    pitch     roll\n",
              "0        -1.44069        -0.91736        -0.13765  ...    -0.42705 -0.89796 -1.54455\n",
              "1         0.19317         0.63330        -0.60339  ...    -1.47860  0.76728  0.11053\n",
              "2        -0.57066         0.19121        -0.04607  ...     0.49138  0.24830 -0.66046\n",
              "3         1.04363        -1.02163        -0.60983  ...     1.02742 -1.18910  1.10871\n",
              "4         0.96656        -0.33246         0.13626  ...     1.00976 -0.25455  0.85463\n",
              "\n",
              "[5 rows x 8 columns]"
            ]
          },
          "metadata": {},
          "execution_count": 11
        }
      ]
    },
    {
      "cell_type": "code",
      "metadata": {
        "id": "icARHdbIw2ww",
        "colab": {
          "base_uri": "https://localhost:8080/"
        },
        "outputId": "e716ab7e-fa48-4b60-e162-c9a30b11f449"
      },
      "source": [
        "loss2, accuracy2 = model.evaluate(x_test, y_test_encoded, verbose=0)\n",
        "print(accuracy2)"
      ],
      "execution_count": 12,
      "outputs": [
        {
          "output_type": "stream",
          "name": "stdout",
          "text": [
            "0.9166666865348816\n"
          ]
        }
      ]
    },
    {
      "cell_type": "code",
      "metadata": {
        "id": "pAgp4_2iw6F3",
        "colab": {
          "base_uri": "https://localhost:8080/",
          "height": 204
        },
        "outputId": "eb752c99-ea06-4963-9b95-3e572deaf8e9"
      },
      "source": [
        "x_test[:5]"
      ],
      "execution_count": 14,
      "outputs": [
        {
          "output_type": "execute_result",
          "data": {
            "text/html": [
              "<div>\n",
              "<style scoped>\n",
              "    .dataframe tbody tr th:only-of-type {\n",
              "        vertical-align: middle;\n",
              "    }\n",
              "\n",
              "    .dataframe tbody tr th {\n",
              "        vertical-align: top;\n",
              "    }\n",
              "\n",
              "    .dataframe thead th {\n",
              "        text-align: right;\n",
              "    }\n",
              "</style>\n",
              "<table border=\"1\" class=\"dataframe\">\n",
              "  <thead>\n",
              "    <tr style=\"text-align: right;\">\n",
              "      <th></th>\n",
              "      <th>accelerometer1</th>\n",
              "      <th>accelerometer2</th>\n",
              "      <th>accelerometer3</th>\n",
              "      <th>gyroscope1</th>\n",
              "      <th>gyroscope2</th>\n",
              "      <th>gyroscope3</th>\n",
              "      <th>pitch</th>\n",
              "      <th>roll</th>\n",
              "    </tr>\n",
              "  </thead>\n",
              "  <tbody>\n",
              "    <tr>\n",
              "      <th>0</th>\n",
              "      <td>-1.44069</td>\n",
              "      <td>-0.91736</td>\n",
              "      <td>-0.13765</td>\n",
              "      <td>1.40273</td>\n",
              "      <td>-1.33214</td>\n",
              "      <td>-0.42705</td>\n",
              "      <td>-0.89796</td>\n",
              "      <td>-1.54455</td>\n",
              "    </tr>\n",
              "    <tr>\n",
              "      <th>1</th>\n",
              "      <td>0.19317</td>\n",
              "      <td>0.63330</td>\n",
              "      <td>-0.60339</td>\n",
              "      <td>-0.53080</td>\n",
              "      <td>0.32305</td>\n",
              "      <td>-1.47860</td>\n",
              "      <td>0.76728</td>\n",
              "      <td>0.11053</td>\n",
              "    </tr>\n",
              "    <tr>\n",
              "      <th>2</th>\n",
              "      <td>-0.57066</td>\n",
              "      <td>0.19121</td>\n",
              "      <td>-0.04607</td>\n",
              "      <td>-0.97563</td>\n",
              "      <td>-0.61339</td>\n",
              "      <td>0.49138</td>\n",
              "      <td>0.24830</td>\n",
              "      <td>-0.66046</td>\n",
              "    </tr>\n",
              "    <tr>\n",
              "      <th>3</th>\n",
              "      <td>1.04363</td>\n",
              "      <td>-1.02163</td>\n",
              "      <td>-0.60983</td>\n",
              "      <td>0.60556</td>\n",
              "      <td>1.37136</td>\n",
              "      <td>1.02742</td>\n",
              "      <td>-1.18910</td>\n",
              "      <td>1.10871</td>\n",
              "    </tr>\n",
              "    <tr>\n",
              "      <th>4</th>\n",
              "      <td>0.96656</td>\n",
              "      <td>-0.33246</td>\n",
              "      <td>0.13626</td>\n",
              "      <td>0.75385</td>\n",
              "      <td>1.33442</td>\n",
              "      <td>1.00976</td>\n",
              "      <td>-0.25455</td>\n",
              "      <td>0.85463</td>\n",
              "    </tr>\n",
              "  </tbody>\n",
              "</table>\n",
              "</div>"
            ],
            "text/plain": [
              "   accelerometer1  accelerometer2  accelerometer3  ...  gyroscope3    pitch     roll\n",
              "0        -1.44069        -0.91736        -0.13765  ...    -0.42705 -0.89796 -1.54455\n",
              "1         0.19317         0.63330        -0.60339  ...    -1.47860  0.76728  0.11053\n",
              "2        -0.57066         0.19121        -0.04607  ...     0.49138  0.24830 -0.66046\n",
              "3         1.04363        -1.02163        -0.60983  ...     1.02742 -1.18910  1.10871\n",
              "4         0.96656        -0.33246         0.13626  ...     1.00976 -0.25455  0.85463\n",
              "\n",
              "[5 rows x 8 columns]"
            ]
          },
          "metadata": {},
          "execution_count": 14
        }
      ]
    },
    {
      "cell_type": "code",
      "metadata": {
        "id": "oKjb8yfew8QW",
        "colab": {
          "base_uri": "https://localhost:8080/"
        },
        "outputId": "1df18fde-3059-4adc-f010-d835c98a1a34"
      },
      "source": [
        "y_test[:5]"
      ],
      "execution_count": 15,
      "outputs": [
        {
          "output_type": "execute_result",
          "data": {
            "text/plain": [
              "0    2.00000\n",
              "1    9.00000\n",
              "2   11.00000\n",
              "3    0.00000\n",
              "4    0.00000\n",
              "Name: tapped_zone, dtype: float64"
            ]
          },
          "metadata": {},
          "execution_count": 15
        }
      ]
    },
    {
      "cell_type": "code",
      "metadata": {
        "id": "pLoov2MWw-x2",
        "colab": {
          "base_uri": "https://localhost:8080/"
        },
        "outputId": "9e0a5def-c74b-4262-f58b-6844ce307a1a"
      },
      "source": [
        "y_prob = model.predict(x_test[4:5])\n",
        "y_classes = y_prob.argmax(axis=1)\n",
        "print(y_classes)"
      ],
      "execution_count": 13,
      "outputs": [
        {
          "output_type": "stream",
          "name": "stdout",
          "text": [
            "[0]\n"
          ]
        }
      ]
    }
  ]
}