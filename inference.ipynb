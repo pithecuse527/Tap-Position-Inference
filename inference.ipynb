{
  "nbformat": 4,
  "nbformat_minor": 0,
  "metadata": {
    "colab": {
      "name": "inference.ipynb",
      "provenance": [],
      "collapsed_sections": []
    },
    "kernelspec": {
      "name": "python3",
      "display_name": "Python 3"
    },
    "language_info": {
      "name": "python"
    }
  },
  "cells": [
    {
      "cell_type": "markdown",
      "metadata": {
        "id": "t17qI1HT1IfP"
      },
      "source": [
        "---\n",
        "### TITLE: The Inference with Sensors\n",
        "### AUTHOR: Honggeun Ji\n",
        "### DATE: 10.Nov.2021.\n",
        "---\n",
        "\n",
        "# Tap Position Inference with Flutter and Keras\n",
        "<div>\n",
        "<img src=\"https://media.vlpt.us/images/swara/post/f984346a-d7a6-4ff7-981e-9b71de5d61c7/flutter.png\" width=\"200\"/>\n",
        "<img src=\"https://miro.medium.com/max/600/0*LZQf7b4u8f97izwV.png\" width=\"200\"/>\n",
        "</div>\n",
        "\n",
        "In this lab, I would like to show you the tap position inference using\n",
        "these two sensory data.\n",
        "\n",
        "*   Accelerometer Sensory Data\n",
        "*   Gyroscope Sensory Data\n",
        "\n"
      ]
    },
    {
      "cell_type": "markdown",
      "metadata": {
        "id": "CW7aaco-6TeS"
      },
      "source": [
        "# Data Collection\n",
        "\n",
        "\n",
        "\n",
        "> **Q. What kinds of Sensory Data and How do we collect?**\n",
        "\n",
        "\n",
        "### What Data?\n",
        "**Inspired by Professor Li's \"Privacy Leakage in Smart Device\" introduction.**\n",
        "\n",
        "*   In general, there are three diffent types of sensors on mobile devices.\n",
        "\n",
        "         1. Accelerometer \n",
        "         2. Gyroscope\n",
        "         3. Magnetometer\n",
        "\n",
        "*   This lab only deals with those two sensors except the Magnetometer.\n",
        "\n",
        "*   Based on those two sensors, we may collect sensory data at the moment our user tapped a zone.\n",
        "*   The zones are divided into 12 parts; however, this lab will only show you the case of 6 tapping zone. (As I want to show you the testing case first, after this labs seems valid, I'll move on to the next stages.)\n",
        "\n",
        "</br>\n",
        "\n",
        "### Data, Data, Data... How to collect?\n",
        "**Inspired from Android App Development introduction.**\n",
        "\n",
        "\n",
        "*   The way how I develop an app is quite different from lagacy project.\n",
        "*   Typically, professional developers choose the native development way so that the app works powerfully. (High performance, Faster Reload, and using the native hardware)\n",
        "\n",
        "*   However, it requires at least 3 months to become confident on the native application development.\n",
        "*   This is the reason why I choose **Flutter**. The Flutter is a cross-platform development framework made by Google.\n",
        "*   Not that powerful than the native one, but **this still leads us to implement the sensor data.**\n",
        "*   Also, the Flutter use the programming language, **Dart**, which is quite similar with Java.\n",
        "*   Use the Flutter packages to capture the sensor data with tap position at the moment when a user tap those zone. \n",
        "\n",
        "</br>\n",
        "\n",
        "**Tapping the App looks like,**\n",
        "<div>\n",
        "<img src=\"https://drive.google.com/uc?id=1F-Od3yLodwsoKUzGqZ9Cww9kqAWPvP3w\" width=\"350\" height=\"500\">\n",
        "<img src=\"https://drive.google.com/uc?id=1jyhw4BWNRr8NckquDIZMLWWQ4v2A4QEf\" width=\"250\" height=\"500\">\n",
        "</div>\n",
        "\n",
        "</br>\n",
        "</br>\n",
        "</br>\n"
      ]
    },
    {
      "cell_type": "markdown",
      "metadata": {
        "id": "WSwHZgTJaLPO"
      },
      "source": [
        "> **Q. How do we collect?**\n",
        "\n",
        "### Database Comes Here!\n",
        "\n",
        "*   Send those sensory data and tap position information to the Database.\n",
        "*   Here, I used FireStore from Google Firebase.\n",
        "\n",
        "</br>\n",
        "\n",
        "### What is Firestore?\n",
        "\n",
        "\n",
        "*   It is a Database based on NoSQL.\n",
        "*   Lightweight, Easy to store the data.\n",
        "*   Easy to export the data into .csv or .json form.\n",
        "*   Every record is regard as \"Document\".\n",
        "\n",
        "*   Firestore looks like this,\n",
        "<img src=\"https://drive.google.com/uc?id=1E4iyC5fTlCAWO_cJt6oOcoR7IQna_hvc\" width=\"950\" height=\"480\">\n",
        "\n",
        "*   My Flutter App will send those data set into this Firestore Database.\n",
        "</br>\n",
        "</br>\n",
        "</br>\n"
      ]
    },
    {
      "cell_type": "markdown",
      "metadata": {
        "id": "DF9S8Gpcdo3r"
      },
      "source": [
        "# Data Ready\n",
        "\n",
        "### Tapping The Zone At Least 170 times\n",
        "*   Why 170 times? -> **In order to divide the training data and validation data appropriately.**\n",
        "*   Tap each 6 zones (zone 0, 2, 5, 6, 9 and 11) 170 times respectively.\n",
        "*   Flutter App will send the snapshot of the sensory data and tap position.\n",
        "\n",
        "</br>\n",
        "\n",
        "### After finished Tapping\n",
        "*   See the data has beend successfully collected.\n",
        "*   Showing the partial result\n",
        "\n",
        "</br>\n",
        "\n",
        "<img src=\"https://drive.google.com/uc?id=1CwkwpQgJSXOOCoI58Mdoo3jQY4KMDyIU\" width=\"750\" height=\"550\">\n",
        "\n",
        "*   **Export the Firestore collection into .csv file**\n",
        "\n",
        "</br></br>\n",
        "\n",
        "\n",
        "\n"
      ]
    },
    {
      "cell_type": "markdown",
      "metadata": {
        "id": "aK8MtQOhglH1"
      },
      "source": [
        "#Data Preprocessing\n",
        "\n",
        "1.   **Import Pandas package to use the .csv file**\n",
        "2.   **Open the .csv file and save it.**\n",
        "\n",
        "\n"
      ]
    },
    {
      "cell_type": "code",
      "metadata": {
        "id": "d7bCcjLChcb6"
      },
      "source": [
        "import pandas as pd\n",
        "\n",
        "data_all = pd.read_csv('sample_data/sensory_data.csv')"
      ],
      "execution_count": null,
      "outputs": []
    },
    {
      "cell_type": "markdown",
      "metadata": {
        "id": "BuWkAac4hvde"
      },
      "source": [
        "3.   **Divide the *data_all* into *INPUT DATA* and *TARGET DATA***\n",
        "\n"
      ]
    },
    {
      "cell_type": "code",
      "metadata": {
        "id": "DeEd58cZiNaI"
      },
      "source": [
        "x = data_all.drop(['__id__', 'tapped_zone', 'tap_position_x', 'tap_position_y'], axis=1)  # Drop evertyig except sensory data\n",
        "y = data_all.tapped_zone  # only the tapping zone"
      ],
      "execution_count": null,
      "outputs": []
    },
    {
      "cell_type": "code",
      "metadata": {
        "colab": {
          "base_uri": "https://localhost:8080/",
          "height": 204
        },
        "id": "eccGJAoOihDZ",
        "outputId": "465c3e8e-f90b-4b16-8257-cc174c8cb46c"
      },
      "source": [
        "# check out the division result\n",
        "x.sample(5)  # INPUT DATA"
      ],
      "execution_count": null,
      "outputs": [
        {
          "output_type": "execute_result",
          "data": {
            "text/html": [
              "<div>\n",
              "<style scoped>\n",
              "    .dataframe tbody tr th:only-of-type {\n",
              "        vertical-align: middle;\n",
              "    }\n",
              "\n",
              "    .dataframe tbody tr th {\n",
              "        vertical-align: top;\n",
              "    }\n",
              "\n",
              "    .dataframe thead th {\n",
              "        text-align: right;\n",
              "    }\n",
              "</style>\n",
              "<table border=\"1\" class=\"dataframe\">\n",
              "  <thead>\n",
              "    <tr style=\"text-align: right;\">\n",
              "      <th></th>\n",
              "      <th>accelerometer1</th>\n",
              "      <th>accelerometer2</th>\n",
              "      <th>accelerometer3</th>\n",
              "      <th>gyroscope1</th>\n",
              "      <th>gyroscope2</th>\n",
              "      <th>gyroscope3</th>\n",
              "    </tr>\n",
              "  </thead>\n",
              "  <tbody>\n",
              "    <tr>\n",
              "      <th>131</th>\n",
              "      <td>0.366364</td>\n",
              "      <td>1.141409</td>\n",
              "      <td>11.135806</td>\n",
              "      <td>-1.178547</td>\n",
              "      <td>2.324672</td>\n",
              "      <td>0.389782</td>\n",
              "    </tr>\n",
              "    <tr>\n",
              "      <th>101</th>\n",
              "      <td>-2.278632</td>\n",
              "      <td>1.588522</td>\n",
              "      <td>10.676431</td>\n",
              "      <td>-1.782574</td>\n",
              "      <td>-2.572955</td>\n",
              "      <td>-0.294895</td>\n",
              "    </tr>\n",
              "    <tr>\n",
              "      <th>337</th>\n",
              "      <td>-1.659253</td>\n",
              "      <td>1.448257</td>\n",
              "      <td>10.325320</td>\n",
              "      <td>-0.737805</td>\n",
              "      <td>-2.389644</td>\n",
              "      <td>-0.076489</td>\n",
              "    </tr>\n",
              "    <tr>\n",
              "      <th>62</th>\n",
              "      <td>0.666183</td>\n",
              "      <td>-1.208701</td>\n",
              "      <td>10.582074</td>\n",
              "      <td>0.920327</td>\n",
              "      <td>-0.874574</td>\n",
              "      <td>-0.073958</td>\n",
              "    </tr>\n",
              "    <tr>\n",
              "      <th>47</th>\n",
              "      <td>0.804355</td>\n",
              "      <td>0.300867</td>\n",
              "      <td>10.784247</td>\n",
              "      <td>-0.460065</td>\n",
              "      <td>1.309208</td>\n",
              "      <td>0.288467</td>\n",
              "    </tr>\n",
              "  </tbody>\n",
              "</table>\n",
              "</div>"
            ],
            "text/plain": [
              "     accelerometer1  accelerometer2  ...  gyroscope2  gyroscope3\n",
              "131        0.366364        1.141409  ...    2.324672    0.389782\n",
              "101       -2.278632        1.588522  ...   -2.572955   -0.294895\n",
              "337       -1.659253        1.448257  ...   -2.389644   -0.076489\n",
              "62         0.666183       -1.208701  ...   -0.874574   -0.073958\n",
              "47         0.804355        0.300867  ...    1.309208    0.288467\n",
              "\n",
              "[5 rows x 6 columns]"
            ]
          },
          "metadata": {},
          "execution_count": 4
        }
      ]
    },
    {
      "cell_type": "code",
      "metadata": {
        "colab": {
          "base_uri": "https://localhost:8080/"
        },
        "id": "IPJnPB7GikEe",
        "outputId": "57d034b4-74db-4b63-d7cb-928791661623"
      },
      "source": [
        "# Don't worry about the matching, \n",
        "# division will be processed based on the original records.\n",
        "y.sample(5)  # TARGET DATA"
      ],
      "execution_count": null,
      "outputs": [
        {
          "output_type": "execute_result",
          "data": {
            "text/plain": [
              "779    2.0\n",
              "520    6.0\n",
              "53     9.0\n",
              "679    2.0\n",
              "772    6.0\n",
              "Name: tapped_zone, dtype: float64"
            ]
          },
          "metadata": {},
          "execution_count": 5
        }
      ]
    },
    {
      "cell_type": "markdown",
      "metadata": {
        "id": "iEfXzpL1izPH"
      },
      "source": [
        "4.   **Throw away the inappropriate record (if is missing column data)**"
      ]
    },
    {
      "cell_type": "code",
      "metadata": {
        "id": "3gxglWBKjgKZ"
      },
      "source": [
        "x = x.dropna()\n",
        "y = y.dropna()"
      ],
      "execution_count": null,
      "outputs": []
    },
    {
      "cell_type": "markdown",
      "metadata": {
        "id": "cJ6hJIXLlh_B"
      },
      "source": [
        "5.   **Split the data into training and validating data (80:20):**\n"
      ]
    },
    {
      "cell_type": "code",
      "metadata": {
        "id": "L9xRhKqlltzK"
      },
      "source": [
        "from sklearn.model_selection import train_test_split\n",
        "x_train, x_val, y_train, y_val = train_test_split(x, y, stratify=y, test_size=0.2, random_state=42)"
      ],
      "execution_count": null,
      "outputs": []
    },
    {
      "cell_type": "markdown",
      "metadata": {
        "id": "yv2tmfuJkU7V"
      },
      "source": [
        "6. **One-Hot Encoding (In order to categorize in an array)**\n",
        "</br>\n",
        "</br>\n",
        "Brief concept of One-Hot Encoding\n",
        "</br>\n",
        "<img src=\"https://drive.google.com/uc?id=1rTFKopldrOD9VXxwSGh1iPeFrw_1f3X8\" width=\"2000\" height=\"200\">"
      ]
    },
    {
      "cell_type": "code",
      "metadata": {
        "id": "GZ6jOOBblWZo"
      },
      "source": [
        "import tensorflow as tf\n",
        "y_train_encoded = tf.keras.utils.to_categorical(y_train)  # one-hot encoding for training target\n",
        "y_val_encoded = tf.keras.utils.to_categorical(y_val)      # one-hot encoding for validate target"
      ],
      "execution_count": null,
      "outputs": []
    },
    {
      "cell_type": "code",
      "metadata": {
        "colab": {
          "base_uri": "https://localhost:8080/"
        },
        "id": "W54laE47lYN8",
        "outputId": "c1315ee0-4ff4-42f1-da40-ed6a1f609632"
      },
      "source": [
        "# check out the shape\n",
        "print(y_train_encoded.shape, y_val_encoded.shape)\n",
        "print(x_train.shape, x_val.shape)"
      ],
      "execution_count": null,
      "outputs": [
        {
          "output_type": "stream",
          "name": "stdout",
          "text": [
            "(815, 12) (204, 12)\n",
            "(815, 6) (204, 6)\n"
          ]
        }
      ]
    },
    {
      "cell_type": "markdown",
      "metadata": {
        "id": "-FPR-IRxoA0k"
      },
      "source": [
        "## Preprocessing Done!\n",
        "\n",
        "*   Guess no need standardization as the scale of the input data is not that different.\n",
        "</br>\n",
        "</br>"
      ]
    },
    {
      "cell_type": "markdown",
      "metadata": {
        "id": "jnOcc3gkpeKg"
      },
      "source": [
        "# Training\n",
        "1. **Simply build a neural network with two layers from Tensorflow Keras**\n",
        "\n",
        "</br>\n",
        "<img src=\"https://drive.google.com/uc?id=1eaw2YBh8L8SSXOoSTw1wrzt26Yuj79-C\" width=\"500\" height=\"300\">\n"
      ]
    },
    {
      "cell_type": "code",
      "metadata": {
        "id": "MjzTM7O5n4d_"
      },
      "source": [
        "from tensorflow.keras import Sequential\n",
        "from tensorflow.keras.layers import Dense\n",
        "\n",
        "model = Sequential()  # Entire Sequential Neural Network\n",
        "model.add(Dense(80, activation='sigmoid', input_shape=(6,), kernel_regularizer='l2'))  # Add the hidden layer with 80 unit(Neuron)\n",
        "model.add(Dense(12, activation='softmax'))  # Add the output layer (give us 12 classes)\n",
        "\n",
        "# optimizer is SGD (Stochastic Gradient Descent) with Learning Rate = 0.01 (default)\n",
        "# loss function should be categorical as this is the multiple classification problem\n",
        "model.compile(optimizer='sgd', loss='categorical_crossentropy', metrics=['accuracy'])"
      ],
      "execution_count": null,
      "outputs": []
    },
    {
      "cell_type": "markdown",
      "metadata": {
        "id": "aGRtwiQerxD9"
      },
      "source": [
        "2.  **Start the training with preprocessed data (with 10 epochs)**\n",
        "\n",
        "*   Just checking out whether the training is possible or not\n",
        "*   If there are no problems with this training, the accuracy will be low, so we need to increase the epoch.\n",
        "\n",
        "\n"
      ]
    },
    {
      "cell_type": "code",
      "metadata": {
        "colab": {
          "base_uri": "https://localhost:8080/"
        },
        "id": "rUe5J0xGr4oj",
        "outputId": "c85cb5a6-c5c9-4d27-9253-0db6cd2e723f"
      },
      "source": [
        "history = model.fit(x_train, y_train_encoded, epochs=10, validation_data=(x_val, y_val_encoded))"
      ],
      "execution_count": null,
      "outputs": [
        {
          "output_type": "stream",
          "name": "stdout",
          "text": [
            "Epoch 1/10\n",
            "26/26 [==============================] - 1s 9ms/step - loss: 2.4094 - accuracy: 0.1669 - val_loss: 2.2096 - val_accuracy: 0.1667\n",
            "Epoch 2/10\n",
            "26/26 [==============================] - 0s 3ms/step - loss: 2.1202 - accuracy: 0.1681 - val_loss: 2.0378 - val_accuracy: 0.1716\n",
            "Epoch 3/10\n",
            "26/26 [==============================] - 0s 3ms/step - loss: 1.9952 - accuracy: 0.1718 - val_loss: 1.9467 - val_accuracy: 0.1814\n",
            "Epoch 4/10\n",
            "26/26 [==============================] - 0s 3ms/step - loss: 1.9216 - accuracy: 0.2356 - val_loss: 1.8868 - val_accuracy: 0.2745\n",
            "Epoch 5/10\n",
            "26/26 [==============================] - 0s 3ms/step - loss: 1.8671 - accuracy: 0.3117 - val_loss: 1.8375 - val_accuracy: 0.3824\n",
            "Epoch 6/10\n",
            "26/26 [==============================] - 0s 3ms/step - loss: 1.8207 - accuracy: 0.4221 - val_loss: 1.7936 - val_accuracy: 0.3627\n",
            "Epoch 7/10\n",
            "26/26 [==============================] - 0s 3ms/step - loss: 1.7791 - accuracy: 0.4331 - val_loss: 1.7539 - val_accuracy: 0.3676\n",
            "Epoch 8/10\n",
            "26/26 [==============================] - 0s 2ms/step - loss: 1.7408 - accuracy: 0.4123 - val_loss: 1.7177 - val_accuracy: 0.4461\n",
            "Epoch 9/10\n",
            "26/26 [==============================] - 0s 3ms/step - loss: 1.7053 - accuracy: 0.4442 - val_loss: 1.6834 - val_accuracy: 0.6373\n",
            "Epoch 10/10\n",
            "26/26 [==============================] - 0s 3ms/step - loss: 1.6713 - accuracy: 0.5301 - val_loss: 1.6508 - val_accuracy: 0.4902\n"
          ]
        }
      ]
    },
    {
      "cell_type": "code",
      "metadata": {
        "colab": {
          "base_uri": "https://localhost:8080/"
        },
        "id": "gJNPZM_tsA2V",
        "outputId": "13e7ecca-57bc-4e59-c623-453e761dcf9b"
      },
      "source": [
        "# check the keys of the training history\n",
        "print(history.history.keys())"
      ],
      "execution_count": null,
      "outputs": [
        {
          "output_type": "stream",
          "name": "stdout",
          "text": [
            "dict_keys(['loss', 'accuracy', 'val_loss', 'val_accuracy'])\n"
          ]
        }
      ]
    },
    {
      "cell_type": "markdown",
      "metadata": {
        "id": "d9Mb_unYs2Oe"
      },
      "source": [
        "3.  **If there is no training error, check out the accuracy**"
      ]
    },
    {
      "cell_type": "code",
      "metadata": {
        "colab": {
          "base_uri": "https://localhost:8080/"
        },
        "id": "0-IZ2Z9Us1d1",
        "outputId": "c09ff266-405e-472b-e107-4ec7c4ad90f1"
      },
      "source": [
        "loss, accuracy = model.evaluate(x_val, y_val_encoded, verbose=0)\n",
        "print(accuracy)"
      ],
      "execution_count": null,
      "outputs": [
        {
          "output_type": "stream",
          "name": "stdout",
          "text": [
            "0.1666666716337204\n"
          ]
        }
      ]
    },
    {
      "cell_type": "markdown",
      "metadata": {
        "id": "qVCyR-LftI-3"
      },
      "source": [
        "4.  **Seems the training works but the accuracy is quite low (pointless...)**\n",
        "5.  **Increase the epoch and see the result**\n"
      ]
    },
    {
      "cell_type": "code",
      "metadata": {
        "colab": {
          "base_uri": "https://localhost:8080/"
        },
        "id": "U54CYvmUtYNC",
        "outputId": "abaee64c-d72c-4aca-94bc-be93bcc9b81b"
      },
      "source": [
        "history = model.fit(x_train, y_train_encoded, epochs=300, validation_data=(x_val, y_val_encoded))  # with 300 epochs"
      ],
      "execution_count": null,
      "outputs": [
        {
          "output_type": "stream",
          "name": "stdout",
          "text": [
            "Epoch 1/300\n",
            "26/26 [==============================] - 1s 10ms/step - loss: 2.2383 - accuracy: 0.1620 - val_loss: 2.0997 - val_accuracy: 0.1618\n",
            "Epoch 2/300\n",
            "26/26 [==============================] - 0s 3ms/step - loss: 2.0483 - accuracy: 0.1485 - val_loss: 1.9941 - val_accuracy: 0.1863\n",
            "Epoch 3/300\n",
            "26/26 [==============================] - 0s 3ms/step - loss: 1.9684 - accuracy: 0.2012 - val_loss: 1.9336 - val_accuracy: 0.1422\n",
            "Epoch 4/300\n",
            "26/26 [==============================] - 0s 3ms/step - loss: 1.9152 - accuracy: 0.1706 - val_loss: 1.8862 - val_accuracy: 0.1471\n",
            "Epoch 5/300\n",
            "26/26 [==============================] - 0s 3ms/step - loss: 1.8712 - accuracy: 0.1816 - val_loss: 1.8443 - val_accuracy: 0.1912\n",
            "Epoch 6/300\n",
            "26/26 [==============================] - 0s 3ms/step - loss: 1.8304 - accuracy: 0.2859 - val_loss: 1.8065 - val_accuracy: 0.2549\n",
            "Epoch 7/300\n",
            "26/26 [==============================] - 0s 3ms/step - loss: 1.7947 - accuracy: 0.3190 - val_loss: 1.7726 - val_accuracy: 0.4853\n",
            "Epoch 8/300\n",
            "26/26 [==============================] - 0s 3ms/step - loss: 1.7592 - accuracy: 0.3755 - val_loss: 1.7378 - val_accuracy: 0.4559\n",
            "Epoch 9/300\n",
            "26/26 [==============================] - 0s 4ms/step - loss: 1.7260 - accuracy: 0.4761 - val_loss: 1.7046 - val_accuracy: 0.5049\n",
            "Epoch 10/300\n",
            "26/26 [==============================] - 0s 3ms/step - loss: 1.6930 - accuracy: 0.5006 - val_loss: 1.6720 - val_accuracy: 0.6275\n",
            "Epoch 11/300\n",
            "26/26 [==============================] - 0s 3ms/step - loss: 1.6597 - accuracy: 0.5706 - val_loss: 1.6418 - val_accuracy: 0.6176\n",
            "Epoch 12/300\n",
            "26/26 [==============================] - 0s 2ms/step - loss: 1.6271 - accuracy: 0.4920 - val_loss: 1.6114 - val_accuracy: 0.6373\n",
            "Epoch 13/300\n",
            "26/26 [==============================] - 0s 3ms/step - loss: 1.5988 - accuracy: 0.5828 - val_loss: 1.5809 - val_accuracy: 0.5441\n",
            "Epoch 14/300\n",
            "26/26 [==============================] - 0s 3ms/step - loss: 1.5701 - accuracy: 0.5411 - val_loss: 1.5523 - val_accuracy: 0.6127\n",
            "Epoch 15/300\n",
            "26/26 [==============================] - 0s 3ms/step - loss: 1.5412 - accuracy: 0.5669 - val_loss: 1.5240 - val_accuracy: 0.6373\n",
            "Epoch 16/300\n",
            "26/26 [==============================] - 0s 3ms/step - loss: 1.5135 - accuracy: 0.5975 - val_loss: 1.4970 - val_accuracy: 0.6520\n",
            "Epoch 17/300\n",
            "26/26 [==============================] - 0s 3ms/step - loss: 1.4859 - accuracy: 0.6613 - val_loss: 1.4704 - val_accuracy: 0.5980\n",
            "Epoch 18/300\n",
            "26/26 [==============================] - 0s 3ms/step - loss: 1.4594 - accuracy: 0.6282 - val_loss: 1.4453 - val_accuracy: 0.6814\n",
            "Epoch 19/300\n",
            "26/26 [==============================] - 0s 3ms/step - loss: 1.4345 - accuracy: 0.6687 - val_loss: 1.4213 - val_accuracy: 0.5490\n",
            "Epoch 20/300\n",
            "26/26 [==============================] - 0s 3ms/step - loss: 1.4103 - accuracy: 0.6270 - val_loss: 1.3970 - val_accuracy: 0.6373\n",
            "Epoch 21/300\n",
            "26/26 [==============================] - 0s 4ms/step - loss: 1.3858 - accuracy: 0.6417 - val_loss: 1.3743 - val_accuracy: 0.7206\n",
            "Epoch 22/300\n",
            "26/26 [==============================] - 0s 3ms/step - loss: 1.3645 - accuracy: 0.6810 - val_loss: 1.3530 - val_accuracy: 0.8284\n",
            "Epoch 23/300\n",
            "26/26 [==============================] - 0s 3ms/step - loss: 1.3427 - accuracy: 0.7178 - val_loss: 1.3317 - val_accuracy: 0.7059\n",
            "Epoch 24/300\n",
            "26/26 [==============================] - 0s 3ms/step - loss: 1.3219 - accuracy: 0.6859 - val_loss: 1.3118 - val_accuracy: 0.8284\n",
            "Epoch 25/300\n",
            "26/26 [==============================] - 0s 3ms/step - loss: 1.3024 - accuracy: 0.7423 - val_loss: 1.2920 - val_accuracy: 0.7598\n",
            "Epoch 26/300\n",
            "26/26 [==============================] - 0s 3ms/step - loss: 1.2832 - accuracy: 0.7632 - val_loss: 1.2738 - val_accuracy: 0.6961\n",
            "Epoch 27/300\n",
            "26/26 [==============================] - 0s 3ms/step - loss: 1.2646 - accuracy: 0.7190 - val_loss: 1.2557 - val_accuracy: 0.7206\n",
            "Epoch 28/300\n",
            "26/26 [==============================] - 0s 3ms/step - loss: 1.2469 - accuracy: 0.7399 - val_loss: 1.2387 - val_accuracy: 0.7010\n",
            "Epoch 29/300\n",
            "26/26 [==============================] - 0s 3ms/step - loss: 1.2289 - accuracy: 0.7043 - val_loss: 1.2238 - val_accuracy: 0.7990\n",
            "Epoch 30/300\n",
            "26/26 [==============================] - 0s 3ms/step - loss: 1.2137 - accuracy: 0.7509 - val_loss: 1.2075 - val_accuracy: 0.7941\n",
            "Epoch 31/300\n",
            "26/26 [==============================] - 0s 3ms/step - loss: 1.1984 - accuracy: 0.8233 - val_loss: 1.1921 - val_accuracy: 0.6422\n",
            "Epoch 32/300\n",
            "26/26 [==============================] - 0s 3ms/step - loss: 1.1831 - accuracy: 0.7558 - val_loss: 1.1775 - val_accuracy: 0.8088\n",
            "Epoch 33/300\n",
            "26/26 [==============================] - 0s 3ms/step - loss: 1.1684 - accuracy: 0.8098 - val_loss: 1.1627 - val_accuracy: 0.8431\n",
            "Epoch 34/300\n",
            "26/26 [==============================] - 0s 3ms/step - loss: 1.1544 - accuracy: 0.8466 - val_loss: 1.1490 - val_accuracy: 0.7990\n",
            "Epoch 35/300\n",
            "26/26 [==============================] - 0s 3ms/step - loss: 1.1414 - accuracy: 0.8245 - val_loss: 1.1364 - val_accuracy: 0.7304\n",
            "Epoch 36/300\n",
            "26/26 [==============================] - 0s 3ms/step - loss: 1.1282 - accuracy: 0.7791 - val_loss: 1.1242 - val_accuracy: 0.8431\n",
            "Epoch 37/300\n",
            "26/26 [==============================] - 0s 4ms/step - loss: 1.1166 - accuracy: 0.8466 - val_loss: 1.1120 - val_accuracy: 0.8431\n",
            "Epoch 38/300\n",
            "26/26 [==============================] - 0s 3ms/step - loss: 1.1046 - accuracy: 0.8294 - val_loss: 1.0997 - val_accuracy: 0.9020\n",
            "Epoch 39/300\n",
            "26/26 [==============================] - 0s 3ms/step - loss: 1.0929 - accuracy: 0.8785 - val_loss: 1.0894 - val_accuracy: 0.9265\n",
            "Epoch 40/300\n",
            "26/26 [==============================] - 0s 3ms/step - loss: 1.0817 - accuracy: 0.8282 - val_loss: 1.0791 - val_accuracy: 0.9167\n",
            "Epoch 41/300\n",
            "26/26 [==============================] - 0s 3ms/step - loss: 1.0712 - accuracy: 0.8736 - val_loss: 1.0682 - val_accuracy: 0.8382\n",
            "Epoch 42/300\n",
            "26/26 [==============================] - 0s 4ms/step - loss: 1.0607 - accuracy: 0.8221 - val_loss: 1.0574 - val_accuracy: 0.9265\n",
            "Epoch 43/300\n",
            "26/26 [==============================] - 0s 3ms/step - loss: 1.0506 - accuracy: 0.8748 - val_loss: 1.0490 - val_accuracy: 0.8873\n",
            "Epoch 44/300\n",
            "26/26 [==============================] - 0s 3ms/step - loss: 1.0422 - accuracy: 0.8245 - val_loss: 1.0383 - val_accuracy: 0.9118\n",
            "Epoch 45/300\n",
            "26/26 [==============================] - 0s 3ms/step - loss: 1.0327 - accuracy: 0.8761 - val_loss: 1.0291 - val_accuracy: 0.8971\n",
            "Epoch 46/300\n",
            "26/26 [==============================] - 0s 3ms/step - loss: 1.0233 - accuracy: 0.8454 - val_loss: 1.0210 - val_accuracy: 0.9069\n",
            "Epoch 47/300\n",
            "26/26 [==============================] - 0s 4ms/step - loss: 1.0152 - accuracy: 0.8810 - val_loss: 1.0120 - val_accuracy: 0.9216\n",
            "Epoch 48/300\n",
            "26/26 [==============================] - 0s 3ms/step - loss: 1.0066 - accuracy: 0.8896 - val_loss: 1.0040 - val_accuracy: 0.9167\n",
            "Epoch 49/300\n",
            "26/26 [==============================] - 0s 3ms/step - loss: 0.9988 - accuracy: 0.8834 - val_loss: 0.9959 - val_accuracy: 0.9167\n",
            "Epoch 50/300\n",
            "26/26 [==============================] - 0s 3ms/step - loss: 0.9905 - accuracy: 0.8908 - val_loss: 0.9891 - val_accuracy: 0.9314\n",
            "Epoch 51/300\n",
            "26/26 [==============================] - 0s 3ms/step - loss: 0.9842 - accuracy: 0.8957 - val_loss: 0.9806 - val_accuracy: 0.9265\n",
            "Epoch 52/300\n",
            "26/26 [==============================] - 0s 3ms/step - loss: 0.9767 - accuracy: 0.8847 - val_loss: 0.9736 - val_accuracy: 0.9265\n",
            "Epoch 53/300\n",
            "26/26 [==============================] - 0s 3ms/step - loss: 0.9688 - accuracy: 0.8908 - val_loss: 0.9671 - val_accuracy: 0.9118\n",
            "Epoch 54/300\n",
            "26/26 [==============================] - 0s 3ms/step - loss: 0.9616 - accuracy: 0.8871 - val_loss: 0.9598 - val_accuracy: 0.9314\n",
            "Epoch 55/300\n",
            "26/26 [==============================] - 0s 3ms/step - loss: 0.9551 - accuracy: 0.9055 - val_loss: 0.9530 - val_accuracy: 0.9216\n",
            "Epoch 56/300\n",
            "26/26 [==============================] - 0s 4ms/step - loss: 0.9485 - accuracy: 0.9006 - val_loss: 0.9479 - val_accuracy: 0.9167\n",
            "Epoch 57/300\n",
            "26/26 [==============================] - 0s 3ms/step - loss: 0.9438 - accuracy: 0.8994 - val_loss: 0.9405 - val_accuracy: 0.9167\n",
            "Epoch 58/300\n",
            "26/26 [==============================] - 0s 4ms/step - loss: 0.9362 - accuracy: 0.9055 - val_loss: 0.9348 - val_accuracy: 0.9216\n",
            "Epoch 59/300\n",
            "26/26 [==============================] - 0s 4ms/step - loss: 0.9304 - accuracy: 0.9031 - val_loss: 0.9286 - val_accuracy: 0.9167\n",
            "Epoch 60/300\n",
            "26/26 [==============================] - 0s 3ms/step - loss: 0.9249 - accuracy: 0.8945 - val_loss: 0.9226 - val_accuracy: 0.9167\n",
            "Epoch 61/300\n",
            "26/26 [==============================] - 0s 3ms/step - loss: 0.9187 - accuracy: 0.8982 - val_loss: 0.9168 - val_accuracy: 0.9167\n",
            "Epoch 62/300\n",
            "26/26 [==============================] - 0s 3ms/step - loss: 0.9139 - accuracy: 0.8957 - val_loss: 0.9116 - val_accuracy: 0.9265\n",
            "Epoch 63/300\n",
            "26/26 [==============================] - 0s 3ms/step - loss: 0.9078 - accuracy: 0.9153 - val_loss: 0.9061 - val_accuracy: 0.9363\n",
            "Epoch 64/300\n",
            "26/26 [==============================] - 0s 3ms/step - loss: 0.9030 - accuracy: 0.9092 - val_loss: 0.9013 - val_accuracy: 0.9118\n",
            "Epoch 65/300\n",
            "26/26 [==============================] - 0s 3ms/step - loss: 0.8977 - accuracy: 0.8994 - val_loss: 0.8956 - val_accuracy: 0.9363\n",
            "Epoch 66/300\n",
            "26/26 [==============================] - 0s 3ms/step - loss: 0.8927 - accuracy: 0.9202 - val_loss: 0.8910 - val_accuracy: 0.9216\n",
            "Epoch 67/300\n",
            "26/26 [==============================] - 0s 4ms/step - loss: 0.8880 - accuracy: 0.8957 - val_loss: 0.8858 - val_accuracy: 0.9216\n",
            "Epoch 68/300\n",
            "26/26 [==============================] - 0s 3ms/step - loss: 0.8834 - accuracy: 0.9055 - val_loss: 0.8819 - val_accuracy: 0.9265\n",
            "Epoch 69/300\n",
            "26/26 [==============================] - 0s 3ms/step - loss: 0.8792 - accuracy: 0.9190 - val_loss: 0.8766 - val_accuracy: 0.9412\n",
            "Epoch 70/300\n",
            "26/26 [==============================] - 0s 3ms/step - loss: 0.8738 - accuracy: 0.9141 - val_loss: 0.8719 - val_accuracy: 0.9412\n",
            "Epoch 71/300\n",
            "26/26 [==============================] - 0s 3ms/step - loss: 0.8700 - accuracy: 0.9031 - val_loss: 0.8679 - val_accuracy: 0.9265\n",
            "Epoch 72/300\n",
            "26/26 [==============================] - 0s 3ms/step - loss: 0.8660 - accuracy: 0.9092 - val_loss: 0.8638 - val_accuracy: 0.9265\n",
            "Epoch 73/300\n",
            "26/26 [==============================] - 0s 3ms/step - loss: 0.8614 - accuracy: 0.9092 - val_loss: 0.8593 - val_accuracy: 0.9314\n",
            "Epoch 74/300\n",
            "26/26 [==============================] - 0s 3ms/step - loss: 0.8574 - accuracy: 0.9043 - val_loss: 0.8552 - val_accuracy: 0.9314\n",
            "Epoch 75/300\n",
            "26/26 [==============================] - 0s 3ms/step - loss: 0.8528 - accuracy: 0.9202 - val_loss: 0.8505 - val_accuracy: 0.9314\n",
            "Epoch 76/300\n",
            "26/26 [==============================] - 0s 3ms/step - loss: 0.8489 - accuracy: 0.9190 - val_loss: 0.8474 - val_accuracy: 0.9461\n",
            "Epoch 77/300\n",
            "26/26 [==============================] - 0s 3ms/step - loss: 0.8450 - accuracy: 0.9055 - val_loss: 0.8431 - val_accuracy: 0.9314\n",
            "Epoch 78/300\n",
            "26/26 [==============================] - 0s 3ms/step - loss: 0.8414 - accuracy: 0.9153 - val_loss: 0.8394 - val_accuracy: 0.9461\n",
            "Epoch 79/300\n",
            "26/26 [==============================] - 0s 4ms/step - loss: 0.8378 - accuracy: 0.9215 - val_loss: 0.8351 - val_accuracy: 0.9461\n",
            "Epoch 80/300\n",
            "26/26 [==============================] - 0s 3ms/step - loss: 0.8336 - accuracy: 0.9227 - val_loss: 0.8310 - val_accuracy: 0.9461\n",
            "Epoch 81/300\n",
            "26/26 [==============================] - 0s 4ms/step - loss: 0.8305 - accuracy: 0.9117 - val_loss: 0.8283 - val_accuracy: 0.9265\n",
            "Epoch 82/300\n",
            "26/26 [==============================] - 0s 3ms/step - loss: 0.8268 - accuracy: 0.9166 - val_loss: 0.8247 - val_accuracy: 0.9363\n",
            "Epoch 83/300\n",
            "26/26 [==============================] - 0s 4ms/step - loss: 0.8231 - accuracy: 0.9252 - val_loss: 0.8215 - val_accuracy: 0.9412\n",
            "Epoch 84/300\n",
            "26/26 [==============================] - 0s 3ms/step - loss: 0.8200 - accuracy: 0.9190 - val_loss: 0.8169 - val_accuracy: 0.9412\n",
            "Epoch 85/300\n",
            "26/26 [==============================] - 0s 3ms/step - loss: 0.8159 - accuracy: 0.9202 - val_loss: 0.8136 - val_accuracy: 0.9461\n",
            "Epoch 86/300\n",
            "26/26 [==============================] - 0s 3ms/step - loss: 0.8129 - accuracy: 0.9215 - val_loss: 0.8110 - val_accuracy: 0.9216\n",
            "Epoch 87/300\n",
            "26/26 [==============================] - 0s 3ms/step - loss: 0.8095 - accuracy: 0.9227 - val_loss: 0.8084 - val_accuracy: 0.9363\n",
            "Epoch 88/300\n",
            "26/26 [==============================] - 0s 3ms/step - loss: 0.8065 - accuracy: 0.9178 - val_loss: 0.8038 - val_accuracy: 0.9314\n",
            "Epoch 89/300\n",
            "26/26 [==============================] - 0s 3ms/step - loss: 0.8043 - accuracy: 0.9092 - val_loss: 0.8012 - val_accuracy: 0.9314\n",
            "Epoch 90/300\n",
            "26/26 [==============================] - 0s 3ms/step - loss: 0.8003 - accuracy: 0.9239 - val_loss: 0.7976 - val_accuracy: 0.9363\n",
            "Epoch 91/300\n",
            "26/26 [==============================] - 0s 3ms/step - loss: 0.7964 - accuracy: 0.9178 - val_loss: 0.7952 - val_accuracy: 0.9216\n",
            "Epoch 92/300\n",
            "26/26 [==============================] - 0s 3ms/step - loss: 0.7947 - accuracy: 0.9117 - val_loss: 0.7913 - val_accuracy: 0.9363\n",
            "Epoch 93/300\n",
            "26/26 [==============================] - 0s 3ms/step - loss: 0.7912 - accuracy: 0.9141 - val_loss: 0.7877 - val_accuracy: 0.9510\n",
            "Epoch 94/300\n",
            "26/26 [==============================] - 0s 3ms/step - loss: 0.7884 - accuracy: 0.9190 - val_loss: 0.7857 - val_accuracy: 0.9314\n",
            "Epoch 95/300\n",
            "26/26 [==============================] - 0s 3ms/step - loss: 0.7848 - accuracy: 0.9252 - val_loss: 0.7830 - val_accuracy: 0.9265\n",
            "Epoch 96/300\n",
            "26/26 [==============================] - 0s 3ms/step - loss: 0.7828 - accuracy: 0.9202 - val_loss: 0.7791 - val_accuracy: 0.9461\n",
            "Epoch 97/300\n",
            "26/26 [==============================] - 0s 3ms/step - loss: 0.7797 - accuracy: 0.9288 - val_loss: 0.7759 - val_accuracy: 0.9559\n",
            "Epoch 98/300\n",
            "26/26 [==============================] - 0s 3ms/step - loss: 0.7781 - accuracy: 0.9301 - val_loss: 0.7734 - val_accuracy: 0.9363\n",
            "Epoch 99/300\n",
            "26/26 [==============================] - 0s 3ms/step - loss: 0.7743 - accuracy: 0.9153 - val_loss: 0.7713 - val_accuracy: 0.9461\n",
            "Epoch 100/300\n",
            "26/26 [==============================] - 0s 3ms/step - loss: 0.7721 - accuracy: 0.9301 - val_loss: 0.7678 - val_accuracy: 0.9559\n",
            "Epoch 101/300\n",
            "26/26 [==============================] - 0s 3ms/step - loss: 0.7693 - accuracy: 0.9374 - val_loss: 0.7653 - val_accuracy: 0.9363\n",
            "Epoch 102/300\n",
            "26/26 [==============================] - 0s 5ms/step - loss: 0.7665 - accuracy: 0.9276 - val_loss: 0.7625 - val_accuracy: 0.9412\n",
            "Epoch 103/300\n",
            "26/26 [==============================] - 0s 4ms/step - loss: 0.7637 - accuracy: 0.9313 - val_loss: 0.7610 - val_accuracy: 0.9412\n",
            "Epoch 104/300\n",
            "26/26 [==============================] - 0s 3ms/step - loss: 0.7619 - accuracy: 0.9202 - val_loss: 0.7573 - val_accuracy: 0.9412\n",
            "Epoch 105/300\n",
            "26/26 [==============================] - 0s 3ms/step - loss: 0.7582 - accuracy: 0.9288 - val_loss: 0.7552 - val_accuracy: 0.9461\n",
            "Epoch 106/300\n",
            "26/26 [==============================] - 0s 2ms/step - loss: 0.7563 - accuracy: 0.9301 - val_loss: 0.7529 - val_accuracy: 0.9510\n",
            "Epoch 107/300\n",
            "26/26 [==============================] - 0s 3ms/step - loss: 0.7542 - accuracy: 0.9313 - val_loss: 0.7499 - val_accuracy: 0.9559\n",
            "Epoch 108/300\n",
            "26/26 [==============================] - 0s 3ms/step - loss: 0.7516 - accuracy: 0.9325 - val_loss: 0.7471 - val_accuracy: 0.9461\n",
            "Epoch 109/300\n",
            "26/26 [==============================] - 0s 3ms/step - loss: 0.7488 - accuracy: 0.9313 - val_loss: 0.7447 - val_accuracy: 0.9412\n",
            "Epoch 110/300\n",
            "26/26 [==============================] - 0s 3ms/step - loss: 0.7464 - accuracy: 0.9325 - val_loss: 0.7422 - val_accuracy: 0.9461\n",
            "Epoch 111/300\n",
            "26/26 [==============================] - 0s 3ms/step - loss: 0.7448 - accuracy: 0.9337 - val_loss: 0.7394 - val_accuracy: 0.9559\n",
            "Epoch 112/300\n",
            "26/26 [==============================] - 0s 3ms/step - loss: 0.7421 - accuracy: 0.9337 - val_loss: 0.7393 - val_accuracy: 0.9461\n",
            "Epoch 113/300\n",
            "26/26 [==============================] - 0s 3ms/step - loss: 0.7400 - accuracy: 0.9288 - val_loss: 0.7353 - val_accuracy: 0.9461\n",
            "Epoch 114/300\n",
            "26/26 [==============================] - 0s 3ms/step - loss: 0.7374 - accuracy: 0.9239 - val_loss: 0.7330 - val_accuracy: 0.9412\n",
            "Epoch 115/300\n",
            "26/26 [==============================] - 0s 3ms/step - loss: 0.7354 - accuracy: 0.9301 - val_loss: 0.7307 - val_accuracy: 0.9461\n",
            "Epoch 116/300\n",
            "26/26 [==============================] - 0s 3ms/step - loss: 0.7332 - accuracy: 0.9276 - val_loss: 0.7282 - val_accuracy: 0.9559\n",
            "Epoch 117/300\n",
            "26/26 [==============================] - 0s 3ms/step - loss: 0.7306 - accuracy: 0.9301 - val_loss: 0.7264 - val_accuracy: 0.9412\n",
            "Epoch 118/300\n",
            "26/26 [==============================] - 0s 4ms/step - loss: 0.7291 - accuracy: 0.9178 - val_loss: 0.7240 - val_accuracy: 0.9510\n",
            "Epoch 119/300\n",
            "26/26 [==============================] - 0s 3ms/step - loss: 0.7274 - accuracy: 0.9276 - val_loss: 0.7220 - val_accuracy: 0.9510\n",
            "Epoch 120/300\n",
            "26/26 [==============================] - 0s 3ms/step - loss: 0.7246 - accuracy: 0.9288 - val_loss: 0.7198 - val_accuracy: 0.9510\n",
            "Epoch 121/300\n",
            "26/26 [==============================] - 0s 3ms/step - loss: 0.7228 - accuracy: 0.9350 - val_loss: 0.7173 - val_accuracy: 0.9510\n",
            "Epoch 122/300\n",
            "26/26 [==============================] - 0s 3ms/step - loss: 0.7215 - accuracy: 0.9276 - val_loss: 0.7153 - val_accuracy: 0.9559\n",
            "Epoch 123/300\n",
            "26/26 [==============================] - 0s 3ms/step - loss: 0.7193 - accuracy: 0.9350 - val_loss: 0.7132 - val_accuracy: 0.9461\n",
            "Epoch 124/300\n",
            "26/26 [==============================] - 0s 4ms/step - loss: 0.7167 - accuracy: 0.9350 - val_loss: 0.7116 - val_accuracy: 0.9510\n",
            "Epoch 125/300\n",
            "26/26 [==============================] - 0s 3ms/step - loss: 0.7150 - accuracy: 0.9227 - val_loss: 0.7105 - val_accuracy: 0.9314\n",
            "Epoch 126/300\n",
            "26/26 [==============================] - 0s 3ms/step - loss: 0.7124 - accuracy: 0.9301 - val_loss: 0.7080 - val_accuracy: 0.9363\n",
            "Epoch 127/300\n",
            "26/26 [==============================] - 0s 3ms/step - loss: 0.7104 - accuracy: 0.9337 - val_loss: 0.7053 - val_accuracy: 0.9559\n",
            "Epoch 128/300\n",
            "26/26 [==============================] - 0s 3ms/step - loss: 0.7099 - accuracy: 0.9325 - val_loss: 0.7032 - val_accuracy: 0.9510\n",
            "Epoch 129/300\n",
            "26/26 [==============================] - 0s 3ms/step - loss: 0.7066 - accuracy: 0.9374 - val_loss: 0.7025 - val_accuracy: 0.9412\n",
            "Epoch 130/300\n",
            "26/26 [==============================] - 0s 3ms/step - loss: 0.7060 - accuracy: 0.9227 - val_loss: 0.7000 - val_accuracy: 0.9510\n",
            "Epoch 131/300\n",
            "26/26 [==============================] - 0s 3ms/step - loss: 0.7036 - accuracy: 0.9313 - val_loss: 0.6975 - val_accuracy: 0.9559\n",
            "Epoch 132/300\n",
            "26/26 [==============================] - 0s 4ms/step - loss: 0.7020 - accuracy: 0.9325 - val_loss: 0.6955 - val_accuracy: 0.9461\n",
            "Epoch 133/300\n",
            "26/26 [==============================] - 0s 3ms/step - loss: 0.7001 - accuracy: 0.9337 - val_loss: 0.6947 - val_accuracy: 0.9510\n",
            "Epoch 134/300\n",
            "26/26 [==============================] - 0s 3ms/step - loss: 0.6984 - accuracy: 0.9337 - val_loss: 0.6916 - val_accuracy: 0.9412\n",
            "Epoch 135/300\n",
            "26/26 [==============================] - 0s 4ms/step - loss: 0.6960 - accuracy: 0.9350 - val_loss: 0.6903 - val_accuracy: 0.9559\n",
            "Epoch 136/300\n",
            "26/26 [==============================] - 0s 4ms/step - loss: 0.6945 - accuracy: 0.9325 - val_loss: 0.6881 - val_accuracy: 0.9510\n",
            "Epoch 137/300\n",
            "26/26 [==============================] - 0s 3ms/step - loss: 0.6926 - accuracy: 0.9313 - val_loss: 0.6866 - val_accuracy: 0.9559\n",
            "Epoch 138/300\n",
            "26/26 [==============================] - 0s 3ms/step - loss: 0.6915 - accuracy: 0.9350 - val_loss: 0.6847 - val_accuracy: 0.9461\n",
            "Epoch 139/300\n",
            "26/26 [==============================] - 0s 4ms/step - loss: 0.6895 - accuracy: 0.9374 - val_loss: 0.6829 - val_accuracy: 0.9510\n",
            "Epoch 140/300\n",
            "26/26 [==============================] - 0s 3ms/step - loss: 0.6870 - accuracy: 0.9362 - val_loss: 0.6819 - val_accuracy: 0.9510\n",
            "Epoch 141/300\n",
            "26/26 [==============================] - 0s 3ms/step - loss: 0.6850 - accuracy: 0.9337 - val_loss: 0.6809 - val_accuracy: 0.9510\n",
            "Epoch 142/300\n",
            "26/26 [==============================] - 0s 4ms/step - loss: 0.6848 - accuracy: 0.9387 - val_loss: 0.6787 - val_accuracy: 0.9510\n",
            "Epoch 143/300\n",
            "26/26 [==============================] - 0s 3ms/step - loss: 0.6833 - accuracy: 0.9313 - val_loss: 0.6765 - val_accuracy: 0.9510\n",
            "Epoch 144/300\n",
            "26/26 [==============================] - 0s 3ms/step - loss: 0.6812 - accuracy: 0.9276 - val_loss: 0.6747 - val_accuracy: 0.9559\n",
            "Epoch 145/300\n",
            "26/26 [==============================] - 0s 3ms/step - loss: 0.6797 - accuracy: 0.9387 - val_loss: 0.6727 - val_accuracy: 0.9510\n",
            "Epoch 146/300\n",
            "26/26 [==============================] - 0s 3ms/step - loss: 0.6781 - accuracy: 0.9350 - val_loss: 0.6720 - val_accuracy: 0.9510\n",
            "Epoch 147/300\n",
            "26/26 [==============================] - 0s 4ms/step - loss: 0.6768 - accuracy: 0.9387 - val_loss: 0.6704 - val_accuracy: 0.9510\n",
            "Epoch 148/300\n",
            "26/26 [==============================] - 0s 3ms/step - loss: 0.6751 - accuracy: 0.9362 - val_loss: 0.6676 - val_accuracy: 0.9510\n",
            "Epoch 149/300\n",
            "26/26 [==============================] - 0s 3ms/step - loss: 0.6736 - accuracy: 0.9362 - val_loss: 0.6658 - val_accuracy: 0.9510\n",
            "Epoch 150/300\n",
            "26/26 [==============================] - 0s 3ms/step - loss: 0.6715 - accuracy: 0.9337 - val_loss: 0.6649 - val_accuracy: 0.9510\n",
            "Epoch 151/300\n",
            "26/26 [==============================] - 0s 3ms/step - loss: 0.6704 - accuracy: 0.9374 - val_loss: 0.6629 - val_accuracy: 0.9510\n",
            "Epoch 152/300\n",
            "26/26 [==============================] - 0s 3ms/step - loss: 0.6694 - accuracy: 0.9337 - val_loss: 0.6609 - val_accuracy: 0.9510\n",
            "Epoch 153/300\n",
            "26/26 [==============================] - 0s 3ms/step - loss: 0.6674 - accuracy: 0.9337 - val_loss: 0.6615 - val_accuracy: 0.9461\n",
            "Epoch 154/300\n",
            "26/26 [==============================] - 0s 3ms/step - loss: 0.6662 - accuracy: 0.9387 - val_loss: 0.6582 - val_accuracy: 0.9510\n",
            "Epoch 155/300\n",
            "26/26 [==============================] - 0s 3ms/step - loss: 0.6642 - accuracy: 0.9362 - val_loss: 0.6578 - val_accuracy: 0.9559\n",
            "Epoch 156/300\n",
            "26/26 [==============================] - 0s 4ms/step - loss: 0.6632 - accuracy: 0.9411 - val_loss: 0.6563 - val_accuracy: 0.9559\n",
            "Epoch 157/300\n",
            "26/26 [==============================] - 0s 3ms/step - loss: 0.6606 - accuracy: 0.9337 - val_loss: 0.6541 - val_accuracy: 0.9510\n",
            "Epoch 158/300\n",
            "26/26 [==============================] - 0s 3ms/step - loss: 0.6606 - accuracy: 0.9337 - val_loss: 0.6528 - val_accuracy: 0.9510\n",
            "Epoch 159/300\n",
            "26/26 [==============================] - 0s 4ms/step - loss: 0.6590 - accuracy: 0.9423 - val_loss: 0.6513 - val_accuracy: 0.9510\n",
            "Epoch 160/300\n",
            "26/26 [==============================] - 0s 3ms/step - loss: 0.6574 - accuracy: 0.9362 - val_loss: 0.6496 - val_accuracy: 0.9559\n",
            "Epoch 161/300\n",
            "26/26 [==============================] - 0s 3ms/step - loss: 0.6561 - accuracy: 0.9350 - val_loss: 0.6483 - val_accuracy: 0.9510\n",
            "Epoch 162/300\n",
            "26/26 [==============================] - 0s 3ms/step - loss: 0.6544 - accuracy: 0.9399 - val_loss: 0.6467 - val_accuracy: 0.9510\n",
            "Epoch 163/300\n",
            "26/26 [==============================] - 0s 3ms/step - loss: 0.6537 - accuracy: 0.9411 - val_loss: 0.6455 - val_accuracy: 0.9510\n",
            "Epoch 164/300\n",
            "26/26 [==============================] - 0s 3ms/step - loss: 0.6518 - accuracy: 0.9399 - val_loss: 0.6452 - val_accuracy: 0.9461\n",
            "Epoch 165/300\n",
            "26/26 [==============================] - 0s 3ms/step - loss: 0.6509 - accuracy: 0.9350 - val_loss: 0.6435 - val_accuracy: 0.9559\n",
            "Epoch 166/300\n",
            "26/26 [==============================] - 0s 3ms/step - loss: 0.6492 - accuracy: 0.9387 - val_loss: 0.6411 - val_accuracy: 0.9510\n",
            "Epoch 167/300\n",
            "26/26 [==============================] - 0s 3ms/step - loss: 0.6478 - accuracy: 0.9374 - val_loss: 0.6403 - val_accuracy: 0.9559\n",
            "Epoch 168/300\n",
            "26/26 [==============================] - 0s 3ms/step - loss: 0.6464 - accuracy: 0.9362 - val_loss: 0.6401 - val_accuracy: 0.9461\n",
            "Epoch 169/300\n",
            "26/26 [==============================] - 0s 4ms/step - loss: 0.6453 - accuracy: 0.9350 - val_loss: 0.6406 - val_accuracy: 0.9412\n",
            "Epoch 170/300\n",
            "26/26 [==============================] - 0s 4ms/step - loss: 0.6449 - accuracy: 0.9337 - val_loss: 0.6363 - val_accuracy: 0.9510\n",
            "Epoch 171/300\n",
            "26/26 [==============================] - 0s 3ms/step - loss: 0.6428 - accuracy: 0.9423 - val_loss: 0.6362 - val_accuracy: 0.9510\n",
            "Epoch 172/300\n",
            "26/26 [==============================] - 0s 3ms/step - loss: 0.6419 - accuracy: 0.9362 - val_loss: 0.6342 - val_accuracy: 0.9559\n",
            "Epoch 173/300\n",
            "26/26 [==============================] - 0s 3ms/step - loss: 0.6404 - accuracy: 0.9399 - val_loss: 0.6335 - val_accuracy: 0.9559\n",
            "Epoch 174/300\n",
            "26/26 [==============================] - 0s 3ms/step - loss: 0.6390 - accuracy: 0.9423 - val_loss: 0.6319 - val_accuracy: 0.9510\n",
            "Epoch 175/300\n",
            "26/26 [==============================] - 0s 4ms/step - loss: 0.6381 - accuracy: 0.9436 - val_loss: 0.6306 - val_accuracy: 0.9510\n",
            "Epoch 176/300\n",
            "26/26 [==============================] - 0s 3ms/step - loss: 0.6373 - accuracy: 0.9399 - val_loss: 0.6285 - val_accuracy: 0.9510\n",
            "Epoch 177/300\n",
            "26/26 [==============================] - 0s 3ms/step - loss: 0.6358 - accuracy: 0.9374 - val_loss: 0.6274 - val_accuracy: 0.9510\n",
            "Epoch 178/300\n",
            "26/26 [==============================] - 0s 3ms/step - loss: 0.6350 - accuracy: 0.9374 - val_loss: 0.6267 - val_accuracy: 0.9559\n",
            "Epoch 179/300\n",
            "26/26 [==============================] - 0s 3ms/step - loss: 0.6332 - accuracy: 0.9399 - val_loss: 0.6262 - val_accuracy: 0.9461\n",
            "Epoch 180/300\n",
            "26/26 [==============================] - 0s 4ms/step - loss: 0.6327 - accuracy: 0.9374 - val_loss: 0.6243 - val_accuracy: 0.9510\n",
            "Epoch 181/300\n",
            "26/26 [==============================] - 0s 4ms/step - loss: 0.6306 - accuracy: 0.9374 - val_loss: 0.6223 - val_accuracy: 0.9510\n",
            "Epoch 182/300\n",
            "26/26 [==============================] - 0s 4ms/step - loss: 0.6300 - accuracy: 0.9399 - val_loss: 0.6214 - val_accuracy: 0.9510\n",
            "Epoch 183/300\n",
            "26/26 [==============================] - 0s 4ms/step - loss: 0.6292 - accuracy: 0.9423 - val_loss: 0.6200 - val_accuracy: 0.9510\n",
            "Epoch 184/300\n",
            "26/26 [==============================] - 0s 3ms/step - loss: 0.6279 - accuracy: 0.9423 - val_loss: 0.6193 - val_accuracy: 0.9510\n",
            "Epoch 185/300\n",
            "26/26 [==============================] - 0s 3ms/step - loss: 0.6262 - accuracy: 0.9362 - val_loss: 0.6195 - val_accuracy: 0.9559\n",
            "Epoch 186/300\n",
            "26/26 [==============================] - 0s 4ms/step - loss: 0.6253 - accuracy: 0.9399 - val_loss: 0.6183 - val_accuracy: 0.9461\n",
            "Epoch 187/300\n",
            "26/26 [==============================] - 0s 3ms/step - loss: 0.6243 - accuracy: 0.9423 - val_loss: 0.6171 - val_accuracy: 0.9510\n",
            "Epoch 188/300\n",
            "26/26 [==============================] - 0s 3ms/step - loss: 0.6241 - accuracy: 0.9350 - val_loss: 0.6147 - val_accuracy: 0.9510\n",
            "Epoch 189/300\n",
            "26/26 [==============================] - 0s 3ms/step - loss: 0.6220 - accuracy: 0.9387 - val_loss: 0.6137 - val_accuracy: 0.9559\n",
            "Epoch 190/300\n",
            "26/26 [==============================] - 0s 3ms/step - loss: 0.6214 - accuracy: 0.9448 - val_loss: 0.6132 - val_accuracy: 0.9559\n",
            "Epoch 191/300\n",
            "26/26 [==============================] - 0s 3ms/step - loss: 0.6203 - accuracy: 0.9411 - val_loss: 0.6116 - val_accuracy: 0.9510\n",
            "Epoch 192/300\n",
            "26/26 [==============================] - 0s 3ms/step - loss: 0.6196 - accuracy: 0.9436 - val_loss: 0.6106 - val_accuracy: 0.9510\n",
            "Epoch 193/300\n",
            "26/26 [==============================] - 0s 4ms/step - loss: 0.6179 - accuracy: 0.9411 - val_loss: 0.6093 - val_accuracy: 0.9510\n",
            "Epoch 194/300\n",
            "26/26 [==============================] - 0s 3ms/step - loss: 0.6170 - accuracy: 0.9423 - val_loss: 0.6080 - val_accuracy: 0.9510\n",
            "Epoch 195/300\n",
            "26/26 [==============================] - 0s 3ms/step - loss: 0.6160 - accuracy: 0.9436 - val_loss: 0.6073 - val_accuracy: 0.9510\n",
            "Epoch 196/300\n",
            "26/26 [==============================] - 0s 3ms/step - loss: 0.6153 - accuracy: 0.9423 - val_loss: 0.6068 - val_accuracy: 0.9559\n",
            "Epoch 197/300\n",
            "26/26 [==============================] - 0s 3ms/step - loss: 0.6138 - accuracy: 0.9362 - val_loss: 0.6084 - val_accuracy: 0.9363\n",
            "Epoch 198/300\n",
            "26/26 [==============================] - 0s 3ms/step - loss: 0.6135 - accuracy: 0.9374 - val_loss: 0.6045 - val_accuracy: 0.9510\n",
            "Epoch 199/300\n",
            "26/26 [==============================] - 0s 3ms/step - loss: 0.6121 - accuracy: 0.9411 - val_loss: 0.6035 - val_accuracy: 0.9510\n",
            "Epoch 200/300\n",
            "26/26 [==============================] - 0s 3ms/step - loss: 0.6115 - accuracy: 0.9448 - val_loss: 0.6029 - val_accuracy: 0.9510\n",
            "Epoch 201/300\n",
            "26/26 [==============================] - 0s 4ms/step - loss: 0.6107 - accuracy: 0.9387 - val_loss: 0.6009 - val_accuracy: 0.9510\n",
            "Epoch 202/300\n",
            "26/26 [==============================] - 0s 3ms/step - loss: 0.6087 - accuracy: 0.9399 - val_loss: 0.5999 - val_accuracy: 0.9510\n",
            "Epoch 203/300\n",
            "26/26 [==============================] - 0s 4ms/step - loss: 0.6080 - accuracy: 0.9399 - val_loss: 0.5993 - val_accuracy: 0.9510\n",
            "Epoch 204/300\n",
            "26/26 [==============================] - 0s 5ms/step - loss: 0.6069 - accuracy: 0.9399 - val_loss: 0.5994 - val_accuracy: 0.9559\n",
            "Epoch 205/300\n",
            "26/26 [==============================] - 0s 4ms/step - loss: 0.6063 - accuracy: 0.9387 - val_loss: 0.5977 - val_accuracy: 0.9510\n",
            "Epoch 206/300\n",
            "26/26 [==============================] - 0s 4ms/step - loss: 0.6055 - accuracy: 0.9436 - val_loss: 0.5973 - val_accuracy: 0.9510\n",
            "Epoch 207/300\n",
            "26/26 [==============================] - 0s 4ms/step - loss: 0.6047 - accuracy: 0.9399 - val_loss: 0.5956 - val_accuracy: 0.9510\n",
            "Epoch 208/300\n",
            "26/26 [==============================] - 0s 4ms/step - loss: 0.6037 - accuracy: 0.9374 - val_loss: 0.5949 - val_accuracy: 0.9510\n",
            "Epoch 209/300\n",
            "26/26 [==============================] - 0s 3ms/step - loss: 0.6033 - accuracy: 0.9387 - val_loss: 0.5933 - val_accuracy: 0.9510\n",
            "Epoch 210/300\n",
            "26/26 [==============================] - 0s 4ms/step - loss: 0.6019 - accuracy: 0.9362 - val_loss: 0.5931 - val_accuracy: 0.9510\n",
            "Epoch 211/300\n",
            "26/26 [==============================] - 0s 3ms/step - loss: 0.6014 - accuracy: 0.9423 - val_loss: 0.5915 - val_accuracy: 0.9510\n",
            "Epoch 212/300\n",
            "26/26 [==============================] - 0s 3ms/step - loss: 0.5998 - accuracy: 0.9411 - val_loss: 0.5914 - val_accuracy: 0.9510\n",
            "Epoch 213/300\n",
            "26/26 [==============================] - 0s 3ms/step - loss: 0.5990 - accuracy: 0.9399 - val_loss: 0.5906 - val_accuracy: 0.9510\n",
            "Epoch 214/300\n",
            "26/26 [==============================] - 0s 3ms/step - loss: 0.5982 - accuracy: 0.9374 - val_loss: 0.5909 - val_accuracy: 0.9461\n",
            "Epoch 215/300\n",
            "26/26 [==============================] - 0s 3ms/step - loss: 0.5973 - accuracy: 0.9423 - val_loss: 0.5881 - val_accuracy: 0.9510\n",
            "Epoch 216/300\n",
            "26/26 [==============================] - 0s 3ms/step - loss: 0.5970 - accuracy: 0.9374 - val_loss: 0.5874 - val_accuracy: 0.9510\n",
            "Epoch 217/300\n",
            "26/26 [==============================] - 0s 3ms/step - loss: 0.5949 - accuracy: 0.9448 - val_loss: 0.5883 - val_accuracy: 0.9461\n",
            "Epoch 218/300\n",
            "26/26 [==============================] - 0s 4ms/step - loss: 0.5946 - accuracy: 0.9448 - val_loss: 0.5864 - val_accuracy: 0.9559\n",
            "Epoch 219/300\n",
            "26/26 [==============================] - 0s 3ms/step - loss: 0.5941 - accuracy: 0.9423 - val_loss: 0.5850 - val_accuracy: 0.9559\n",
            "Epoch 220/300\n",
            "26/26 [==============================] - 0s 3ms/step - loss: 0.5933 - accuracy: 0.9411 - val_loss: 0.5831 - val_accuracy: 0.9510\n",
            "Epoch 221/300\n",
            "26/26 [==============================] - 0s 4ms/step - loss: 0.5923 - accuracy: 0.9387 - val_loss: 0.5833 - val_accuracy: 0.9510\n",
            "Epoch 222/300\n",
            "26/26 [==============================] - 0s 5ms/step - loss: 0.5917 - accuracy: 0.9448 - val_loss: 0.5822 - val_accuracy: 0.9510\n",
            "Epoch 223/300\n",
            "26/26 [==============================] - 0s 4ms/step - loss: 0.5910 - accuracy: 0.9448 - val_loss: 0.5821 - val_accuracy: 0.9510\n",
            "Epoch 224/300\n",
            "26/26 [==============================] - 0s 4ms/step - loss: 0.5901 - accuracy: 0.9362 - val_loss: 0.5804 - val_accuracy: 0.9510\n",
            "Epoch 225/300\n",
            "26/26 [==============================] - 0s 3ms/step - loss: 0.5892 - accuracy: 0.9399 - val_loss: 0.5824 - val_accuracy: 0.9461\n",
            "Epoch 226/300\n",
            "26/26 [==============================] - 0s 4ms/step - loss: 0.5886 - accuracy: 0.9436 - val_loss: 0.5794 - val_accuracy: 0.9510\n",
            "Epoch 227/300\n",
            "26/26 [==============================] - 0s 3ms/step - loss: 0.5873 - accuracy: 0.9411 - val_loss: 0.5795 - val_accuracy: 0.9510\n",
            "Epoch 228/300\n",
            "26/26 [==============================] - 0s 4ms/step - loss: 0.5861 - accuracy: 0.9337 - val_loss: 0.5790 - val_accuracy: 0.9461\n",
            "Epoch 229/300\n",
            "26/26 [==============================] - 0s 4ms/step - loss: 0.5864 - accuracy: 0.9423 - val_loss: 0.5775 - val_accuracy: 0.9559\n",
            "Epoch 230/300\n",
            "26/26 [==============================] - 0s 3ms/step - loss: 0.5852 - accuracy: 0.9436 - val_loss: 0.5761 - val_accuracy: 0.9559\n",
            "Epoch 231/300\n",
            "26/26 [==============================] - 0s 3ms/step - loss: 0.5842 - accuracy: 0.9448 - val_loss: 0.5745 - val_accuracy: 0.9510\n",
            "Epoch 232/300\n",
            "26/26 [==============================] - 0s 3ms/step - loss: 0.5833 - accuracy: 0.9399 - val_loss: 0.5748 - val_accuracy: 0.9559\n",
            "Epoch 233/300\n",
            "26/26 [==============================] - 0s 4ms/step - loss: 0.5831 - accuracy: 0.9387 - val_loss: 0.5741 - val_accuracy: 0.9510\n",
            "Epoch 234/300\n",
            "26/26 [==============================] - 0s 4ms/step - loss: 0.5817 - accuracy: 0.9448 - val_loss: 0.5742 - val_accuracy: 0.9510\n",
            "Epoch 235/300\n",
            "26/26 [==============================] - 0s 4ms/step - loss: 0.5815 - accuracy: 0.9423 - val_loss: 0.5728 - val_accuracy: 0.9559\n",
            "Epoch 236/300\n",
            "26/26 [==============================] - 0s 3ms/step - loss: 0.5805 - accuracy: 0.9399 - val_loss: 0.5713 - val_accuracy: 0.9559\n",
            "Epoch 237/300\n",
            "26/26 [==============================] - 0s 3ms/step - loss: 0.5797 - accuracy: 0.9362 - val_loss: 0.5703 - val_accuracy: 0.9510\n",
            "Epoch 238/300\n",
            "26/26 [==============================] - 0s 3ms/step - loss: 0.5790 - accuracy: 0.9448 - val_loss: 0.5700 - val_accuracy: 0.9510\n",
            "Epoch 239/300\n",
            "26/26 [==============================] - 0s 4ms/step - loss: 0.5778 - accuracy: 0.9423 - val_loss: 0.5687 - val_accuracy: 0.9559\n",
            "Epoch 240/300\n",
            "26/26 [==============================] - 0s 4ms/step - loss: 0.5772 - accuracy: 0.9362 - val_loss: 0.5685 - val_accuracy: 0.9510\n",
            "Epoch 241/300\n",
            "26/26 [==============================] - 0s 3ms/step - loss: 0.5771 - accuracy: 0.9387 - val_loss: 0.5685 - val_accuracy: 0.9510\n",
            "Epoch 242/300\n",
            "26/26 [==============================] - 0s 3ms/step - loss: 0.5767 - accuracy: 0.9399 - val_loss: 0.5672 - val_accuracy: 0.9510\n",
            "Epoch 243/300\n",
            "26/26 [==============================] - 0s 3ms/step - loss: 0.5757 - accuracy: 0.9448 - val_loss: 0.5671 - val_accuracy: 0.9510\n",
            "Epoch 244/300\n",
            "26/26 [==============================] - 0s 4ms/step - loss: 0.5744 - accuracy: 0.9411 - val_loss: 0.5652 - val_accuracy: 0.9510\n",
            "Epoch 245/300\n",
            "26/26 [==============================] - 0s 3ms/step - loss: 0.5750 - accuracy: 0.9411 - val_loss: 0.5638 - val_accuracy: 0.9510\n",
            "Epoch 246/300\n",
            "26/26 [==============================] - 0s 4ms/step - loss: 0.5731 - accuracy: 0.9399 - val_loss: 0.5635 - val_accuracy: 0.9510\n",
            "Epoch 247/300\n",
            "26/26 [==============================] - 0s 3ms/step - loss: 0.5729 - accuracy: 0.9411 - val_loss: 0.5641 - val_accuracy: 0.9510\n",
            "Epoch 248/300\n",
            "26/26 [==============================] - 0s 3ms/step - loss: 0.5720 - accuracy: 0.9485 - val_loss: 0.5630 - val_accuracy: 0.9510\n",
            "Epoch 249/300\n",
            "26/26 [==============================] - 0s 3ms/step - loss: 0.5705 - accuracy: 0.9411 - val_loss: 0.5624 - val_accuracy: 0.9559\n",
            "Epoch 250/300\n",
            "26/26 [==============================] - 0s 3ms/step - loss: 0.5702 - accuracy: 0.9436 - val_loss: 0.5615 - val_accuracy: 0.9559\n",
            "Epoch 251/300\n",
            "26/26 [==============================] - 0s 4ms/step - loss: 0.5700 - accuracy: 0.9374 - val_loss: 0.5608 - val_accuracy: 0.9510\n",
            "Epoch 252/300\n",
            "26/26 [==============================] - 0s 4ms/step - loss: 0.5681 - accuracy: 0.9485 - val_loss: 0.5605 - val_accuracy: 0.9510\n",
            "Epoch 253/300\n",
            "26/26 [==============================] - 0s 3ms/step - loss: 0.5682 - accuracy: 0.9399 - val_loss: 0.5598 - val_accuracy: 0.9559\n",
            "Epoch 254/300\n",
            "26/26 [==============================] - 0s 3ms/step - loss: 0.5678 - accuracy: 0.9448 - val_loss: 0.5605 - val_accuracy: 0.9510\n",
            "Epoch 255/300\n",
            "26/26 [==============================] - 0s 3ms/step - loss: 0.5668 - accuracy: 0.9387 - val_loss: 0.5589 - val_accuracy: 0.9559\n",
            "Epoch 256/300\n",
            "26/26 [==============================] - 0s 3ms/step - loss: 0.5669 - accuracy: 0.9448 - val_loss: 0.5574 - val_accuracy: 0.9510\n",
            "Epoch 257/300\n",
            "26/26 [==============================] - 0s 3ms/step - loss: 0.5659 - accuracy: 0.9472 - val_loss: 0.5568 - val_accuracy: 0.9510\n",
            "Epoch 258/300\n",
            "26/26 [==============================] - 0s 3ms/step - loss: 0.5651 - accuracy: 0.9423 - val_loss: 0.5552 - val_accuracy: 0.9510\n",
            "Epoch 259/300\n",
            "26/26 [==============================] - 0s 3ms/step - loss: 0.5642 - accuracy: 0.9374 - val_loss: 0.5556 - val_accuracy: 0.9510\n",
            "Epoch 260/300\n",
            "26/26 [==============================] - 0s 3ms/step - loss: 0.5641 - accuracy: 0.9448 - val_loss: 0.5569 - val_accuracy: 0.9412\n",
            "Epoch 261/300\n",
            "26/26 [==============================] - 0s 3ms/step - loss: 0.5630 - accuracy: 0.9485 - val_loss: 0.5537 - val_accuracy: 0.9510\n",
            "Epoch 262/300\n",
            "26/26 [==============================] - 0s 3ms/step - loss: 0.5625 - accuracy: 0.9411 - val_loss: 0.5528 - val_accuracy: 0.9510\n",
            "Epoch 263/300\n",
            "26/26 [==============================] - 0s 3ms/step - loss: 0.5621 - accuracy: 0.9411 - val_loss: 0.5520 - val_accuracy: 0.9510\n",
            "Epoch 264/300\n",
            "26/26 [==============================] - 0s 3ms/step - loss: 0.5615 - accuracy: 0.9399 - val_loss: 0.5524 - val_accuracy: 0.9510\n",
            "Epoch 265/300\n",
            "26/26 [==============================] - 0s 4ms/step - loss: 0.5604 - accuracy: 0.9423 - val_loss: 0.5522 - val_accuracy: 0.9510\n",
            "Epoch 266/300\n",
            "26/26 [==============================] - 0s 3ms/step - loss: 0.5596 - accuracy: 0.9436 - val_loss: 0.5506 - val_accuracy: 0.9510\n",
            "Epoch 267/300\n",
            "26/26 [==============================] - 0s 4ms/step - loss: 0.5592 - accuracy: 0.9423 - val_loss: 0.5510 - val_accuracy: 0.9559\n",
            "Epoch 268/300\n",
            "26/26 [==============================] - 0s 3ms/step - loss: 0.5595 - accuracy: 0.9436 - val_loss: 0.5496 - val_accuracy: 0.9510\n",
            "Epoch 269/300\n",
            "26/26 [==============================] - 0s 3ms/step - loss: 0.5580 - accuracy: 0.9448 - val_loss: 0.5479 - val_accuracy: 0.9510\n",
            "Epoch 270/300\n",
            "26/26 [==============================] - 0s 4ms/step - loss: 0.5579 - accuracy: 0.9411 - val_loss: 0.5477 - val_accuracy: 0.9510\n",
            "Epoch 271/300\n",
            "26/26 [==============================] - 0s 4ms/step - loss: 0.5566 - accuracy: 0.9436 - val_loss: 0.5470 - val_accuracy: 0.9510\n",
            "Epoch 272/300\n",
            "26/26 [==============================] - 0s 3ms/step - loss: 0.5560 - accuracy: 0.9460 - val_loss: 0.5471 - val_accuracy: 0.9510\n",
            "Epoch 273/300\n",
            "26/26 [==============================] - 0s 4ms/step - loss: 0.5562 - accuracy: 0.9436 - val_loss: 0.5471 - val_accuracy: 0.9510\n",
            "Epoch 274/300\n",
            "26/26 [==============================] - 0s 4ms/step - loss: 0.5553 - accuracy: 0.9436 - val_loss: 0.5450 - val_accuracy: 0.9510\n",
            "Epoch 275/300\n",
            "26/26 [==============================] - 0s 3ms/step - loss: 0.5540 - accuracy: 0.9399 - val_loss: 0.5447 - val_accuracy: 0.9559\n",
            "Epoch 276/300\n",
            "26/26 [==============================] - 0s 3ms/step - loss: 0.5541 - accuracy: 0.9411 - val_loss: 0.5449 - val_accuracy: 0.9510\n",
            "Epoch 277/300\n",
            "26/26 [==============================] - 0s 3ms/step - loss: 0.5537 - accuracy: 0.9411 - val_loss: 0.5440 - val_accuracy: 0.9510\n",
            "Epoch 278/300\n",
            "26/26 [==============================] - 0s 4ms/step - loss: 0.5531 - accuracy: 0.9460 - val_loss: 0.5436 - val_accuracy: 0.9510\n",
            "Epoch 279/300\n",
            "26/26 [==============================] - 0s 3ms/step - loss: 0.5521 - accuracy: 0.9448 - val_loss: 0.5436 - val_accuracy: 0.9510\n",
            "Epoch 280/300\n",
            "26/26 [==============================] - 0s 3ms/step - loss: 0.5521 - accuracy: 0.9448 - val_loss: 0.5425 - val_accuracy: 0.9510\n",
            "Epoch 281/300\n",
            "26/26 [==============================] - 0s 3ms/step - loss: 0.5515 - accuracy: 0.9387 - val_loss: 0.5411 - val_accuracy: 0.9510\n",
            "Epoch 282/300\n",
            "26/26 [==============================] - 0s 3ms/step - loss: 0.5501 - accuracy: 0.9436 - val_loss: 0.5417 - val_accuracy: 0.9559\n",
            "Epoch 283/300\n",
            "26/26 [==============================] - 0s 4ms/step - loss: 0.5498 - accuracy: 0.9460 - val_loss: 0.5407 - val_accuracy: 0.9510\n",
            "Epoch 284/300\n",
            "26/26 [==============================] - 0s 4ms/step - loss: 0.5488 - accuracy: 0.9423 - val_loss: 0.5402 - val_accuracy: 0.9510\n",
            "Epoch 285/300\n",
            "26/26 [==============================] - 0s 4ms/step - loss: 0.5492 - accuracy: 0.9436 - val_loss: 0.5402 - val_accuracy: 0.9510\n",
            "Epoch 286/300\n",
            "26/26 [==============================] - 0s 3ms/step - loss: 0.5480 - accuracy: 0.9448 - val_loss: 0.5389 - val_accuracy: 0.9510\n",
            "Epoch 287/300\n",
            "26/26 [==============================] - 0s 3ms/step - loss: 0.5477 - accuracy: 0.9472 - val_loss: 0.5398 - val_accuracy: 0.9559\n",
            "Epoch 288/300\n",
            "26/26 [==============================] - 0s 3ms/step - loss: 0.5469 - accuracy: 0.9399 - val_loss: 0.5384 - val_accuracy: 0.9510\n",
            "Epoch 289/300\n",
            "26/26 [==============================] - 0s 3ms/step - loss: 0.5457 - accuracy: 0.9436 - val_loss: 0.5390 - val_accuracy: 0.9461\n",
            "Epoch 290/300\n",
            "26/26 [==============================] - 0s 3ms/step - loss: 0.5459 - accuracy: 0.9485 - val_loss: 0.5362 - val_accuracy: 0.9510\n",
            "Epoch 291/300\n",
            "26/26 [==============================] - 0s 3ms/step - loss: 0.5446 - accuracy: 0.9472 - val_loss: 0.5360 - val_accuracy: 0.9510\n",
            "Epoch 292/300\n",
            "26/26 [==============================] - 0s 4ms/step - loss: 0.5449 - accuracy: 0.9436 - val_loss: 0.5349 - val_accuracy: 0.9510\n",
            "Epoch 293/300\n",
            "26/26 [==============================] - 0s 3ms/step - loss: 0.5441 - accuracy: 0.9472 - val_loss: 0.5355 - val_accuracy: 0.9510\n",
            "Epoch 294/300\n",
            "26/26 [==============================] - 0s 3ms/step - loss: 0.5445 - accuracy: 0.9485 - val_loss: 0.5356 - val_accuracy: 0.9510\n",
            "Epoch 295/300\n",
            "26/26 [==============================] - 0s 4ms/step - loss: 0.5432 - accuracy: 0.9411 - val_loss: 0.5347 - val_accuracy: 0.9510\n",
            "Epoch 296/300\n",
            "26/26 [==============================] - 0s 3ms/step - loss: 0.5427 - accuracy: 0.9472 - val_loss: 0.5344 - val_accuracy: 0.9510\n",
            "Epoch 297/300\n",
            "26/26 [==============================] - 0s 3ms/step - loss: 0.5424 - accuracy: 0.9423 - val_loss: 0.5333 - val_accuracy: 0.9510\n",
            "Epoch 298/300\n",
            "26/26 [==============================] - 0s 3ms/step - loss: 0.5415 - accuracy: 0.9436 - val_loss: 0.5339 - val_accuracy: 0.9510\n",
            "Epoch 299/300\n",
            "26/26 [==============================] - 0s 3ms/step - loss: 0.5417 - accuracy: 0.9460 - val_loss: 0.5326 - val_accuracy: 0.9510\n",
            "Epoch 300/300\n",
            "26/26 [==============================] - 0s 3ms/step - loss: 0.5402 - accuracy: 0.9423 - val_loss: 0.5327 - val_accuracy: 0.9510\n"
          ]
        }
      ]
    },
    {
      "cell_type": "code",
      "metadata": {
        "colab": {
          "base_uri": "https://localhost:8080/"
        },
        "id": "FzpWol0DwOln",
        "outputId": "7bdd20e4-d4b6-473b-892c-e89cd9171d23"
      },
      "source": [
        "loss, accuracy = model.evaluate(x_val, y_val_encoded, verbose=0)\n",
        "print(accuracy)"
      ],
      "execution_count": null,
      "outputs": [
        {
          "output_type": "stream",
          "name": "stdout",
          "text": [
            "0.9509803652763367\n"
          ]
        }
      ]
    },
    {
      "cell_type": "code",
      "metadata": {
        "colab": {
          "base_uri": "https://localhost:8080/",
          "height": 279
        },
        "id": "vwVOukwzxEDE",
        "outputId": "e680fe84-26bc-4a34-cd99-7471d3ffe692"
      },
      "source": [
        "# loss graph\n",
        "import matplotlib.pyplot as plt\n",
        "\n",
        "plt.plot(history.history['loss'])\n",
        "plt.plot(history.history['val_loss'])\n",
        "plt.ylabel('loss')\n",
        "plt.xlabel('epoch')\n",
        "plt.legend(['train_loss', 'val_loss'])\n",
        "plt.show()"
      ],
      "execution_count": null,
      "outputs": [
        {
          "output_type": "display_data",
          "data": {
            "image/png": "[encoded data removed]",
            "text/plain": [
              "<Figure size 432x288 with 1 Axes>"
            ]
          },
          "metadata": {
            "needs_background": "light"
          }
        }
      ]
    },
    {
      "cell_type": "code",
      "metadata": {
        "colab": {
          "base_uri": "https://localhost:8080/",
          "height": 279
        },
        "id": "FKdZj85gxhyr",
        "outputId": "61a27e75-2f3f-4899-fdd8-352d1572308b"
      },
      "source": [
        "# accuracy graph\n",
        "plt.plot(history.history['accuracy'])\n",
        "plt.plot(history.history['val_accuracy'])\n",
        "plt.ylabel('accuracy')\n",
        "plt.xlabel('epoch')\n",
        "plt.legend(['train_accuracy', 'val_accuracy'])\n",
        "plt.show()"
      ],
      "execution_count": null,
      "outputs": [
        {
          "output_type": "display_data",
          "data": {
            "image/png": "[encoded data removed]",
            "text/plain": [
              "<Figure size 432x288 with 1 Axes>"
            ]
          },
          "metadata": {
            "needs_background": "light"
          }
        }
      ]
    },
    {
      "cell_type": "markdown",
      "metadata": {
        "id": "FgoQXPZ6t4Qk"
      },
      "source": [
        "6.  **If the accuracy is more than 95%, we are almost done.**\n",
        "7.  **If the accuracy is not more than 95%, find the other regularizers or epochs. (Maybe the input data is wrong...)**\n",
        "8.  **Predict the class with testing data (use test .csv file)**"
      ]
    },
    {
      "cell_type": "code",
      "metadata": {
        "colab": {
          "base_uri": "https://localhost:8080/"
        },
        "id": "nEx7IpgHt1Bv",
        "outputId": "94537ef6-b14c-4482-9c72-f6a58f27a7b7"
      },
      "source": [
        "#import the testing .csv file\n",
        "test_data_all = pd.read_csv('sample_data/sensory_data_test.csv')\n",
        "\n",
        "# test data preprocessing\n",
        "x_test = test_data_all.drop(['__id__', 'tapped_zone', 'tap_position_x', 'tap_position_y'], axis=1)  # Drop evertyig except sensory data\n",
        "y_test = test_data_all.tapped_zone  # only the tapping zone\n",
        "\n",
        "# drop the wrong record\n",
        "x_test = x_test.dropna()\n",
        "y_test = y_test.dropna()\n",
        "\n",
        "# one-hot encoding for test target\n",
        "y_test_encoded = tf.keras.utils.to_categorical(y_test)  \n",
        "\n",
        "# check out the shape\n",
        "print(x_test.shape)\n",
        "print(y_test_encoded.shape)"
      ],
      "execution_count": null,
      "outputs": [
        {
          "output_type": "stream",
          "name": "stdout",
          "text": [
            "(26, 6)\n",
            "(26, 12)\n"
          ]
        }
      ]
    },
    {
      "cell_type": "code",
      "metadata": {
        "colab": {
          "base_uri": "https://localhost:8080/"
        },
        "id": "6d_QjgTPvNrW",
        "outputId": "f731db0d-6bef-4912-9735-26495a55359c"
      },
      "source": [
        "loss2, accuracy2 = model.evaluate(x_test, y_test_encoded, verbose=0)\n",
        "print(accuracy2)"
      ],
      "execution_count": null,
      "outputs": [
        {
          "output_type": "stream",
          "name": "stdout",
          "text": [
            "0.9230769276618958\n"
          ]
        }
      ]
    },
    {
      "cell_type": "markdown",
      "metadata": {
        "id": "6vvAgX7atjOT"
      },
      "source": [
        "## Guess we have a meaningful experiment result!\n",
        "\n",
        "*   Accuaracy of testing data looks not beautiful...\n",
        "\n",
        "\n",
        "    1.   Suspicious about Overfitting\n",
        "    2.   Suspicious about Data Collection (How to collect more clean, more accurate sensory data?)\n",
        "    3.   Suspicious about neural network depth\n",
        "    4.   Suspicious about the regularization (L1? or L2?)\n",
        "\n",
        "\n",
        "*   Proceed to the next step? (Inference the every zones)\n",
        "\n"
      ]
    }
  ]
}